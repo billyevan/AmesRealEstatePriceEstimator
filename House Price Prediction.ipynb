{
 "cells": [
  {
   "attachments": {},
   "cell_type": "markdown",
   "metadata": {},
   "source": [
    "# Real-Estate Price Prediction"
   ]
  },
  {
   "attachments": {},
   "cell_type": "markdown",
   "metadata": {},
   "source": [
    "A data science project aiming to predict the price of a real-estate in Ames, Iowa."
   ]
  },
  {
   "attachments": {},
   "cell_type": "markdown",
   "metadata": {},
   "source": [
    "## 1. Import Required Libraries"
   ]
  },
  {
   "cell_type": "code",
   "execution_count": 2,
   "metadata": {},
   "outputs": [],
   "source": [
    "import pandas as pd\n",
    "import numpy as np\n",
    "from matplotlib import pyplot as plt\n",
    "\n",
    "%matplotlib inline\n",
    "import matplotlib\n",
    "matplotlib.rcParams[\"figure.figsize\"] = (20, 10)"
   ]
  },
  {
   "attachments": {},
   "cell_type": "markdown",
   "metadata": {},
   "source": [
    "## 2. Loading Datasets"
   ]
  },
  {
   "cell_type": "code",
   "execution_count": 3,
   "metadata": {},
   "outputs": [
    {
     "data": {
      "text/html": [
       "<div>\n",
       "<style scoped>\n",
       "    .dataframe tbody tr th:only-of-type {\n",
       "        vertical-align: middle;\n",
       "    }\n",
       "\n",
       "    .dataframe tbody tr th {\n",
       "        vertical-align: top;\n",
       "    }\n",
       "\n",
       "    .dataframe thead th {\n",
       "        text-align: right;\n",
       "    }\n",
       "</style>\n",
       "<table border=\"1\" class=\"dataframe\">\n",
       "  <thead>\n",
       "    <tr style=\"text-align: right;\">\n",
       "      <th></th>\n",
       "      <th>Id</th>\n",
       "      <th>MSSubClass</th>\n",
       "      <th>MSZoning</th>\n",
       "      <th>LotFrontage</th>\n",
       "      <th>LotArea</th>\n",
       "      <th>Street</th>\n",
       "      <th>Alley</th>\n",
       "      <th>LotShape</th>\n",
       "      <th>LandContour</th>\n",
       "      <th>Utilities</th>\n",
       "      <th>...</th>\n",
       "      <th>PoolArea</th>\n",
       "      <th>PoolQC</th>\n",
       "      <th>Fence</th>\n",
       "      <th>MiscFeature</th>\n",
       "      <th>MiscVal</th>\n",
       "      <th>MoSold</th>\n",
       "      <th>YrSold</th>\n",
       "      <th>SaleType</th>\n",
       "      <th>SaleCondition</th>\n",
       "      <th>SalePrice</th>\n",
       "    </tr>\n",
       "  </thead>\n",
       "  <tbody>\n",
       "    <tr>\n",
       "      <th>0</th>\n",
       "      <td>1</td>\n",
       "      <td>60</td>\n",
       "      <td>RL</td>\n",
       "      <td>65.0</td>\n",
       "      <td>8450</td>\n",
       "      <td>Pave</td>\n",
       "      <td>NaN</td>\n",
       "      <td>Reg</td>\n",
       "      <td>Lvl</td>\n",
       "      <td>AllPub</td>\n",
       "      <td>...</td>\n",
       "      <td>0</td>\n",
       "      <td>NaN</td>\n",
       "      <td>NaN</td>\n",
       "      <td>NaN</td>\n",
       "      <td>0</td>\n",
       "      <td>2</td>\n",
       "      <td>2008</td>\n",
       "      <td>WD</td>\n",
       "      <td>Normal</td>\n",
       "      <td>208500</td>\n",
       "    </tr>\n",
       "    <tr>\n",
       "      <th>1</th>\n",
       "      <td>2</td>\n",
       "      <td>20</td>\n",
       "      <td>RL</td>\n",
       "      <td>80.0</td>\n",
       "      <td>9600</td>\n",
       "      <td>Pave</td>\n",
       "      <td>NaN</td>\n",
       "      <td>Reg</td>\n",
       "      <td>Lvl</td>\n",
       "      <td>AllPub</td>\n",
       "      <td>...</td>\n",
       "      <td>0</td>\n",
       "      <td>NaN</td>\n",
       "      <td>NaN</td>\n",
       "      <td>NaN</td>\n",
       "      <td>0</td>\n",
       "      <td>5</td>\n",
       "      <td>2007</td>\n",
       "      <td>WD</td>\n",
       "      <td>Normal</td>\n",
       "      <td>181500</td>\n",
       "    </tr>\n",
       "    <tr>\n",
       "      <th>2</th>\n",
       "      <td>3</td>\n",
       "      <td>60</td>\n",
       "      <td>RL</td>\n",
       "      <td>68.0</td>\n",
       "      <td>11250</td>\n",
       "      <td>Pave</td>\n",
       "      <td>NaN</td>\n",
       "      <td>IR1</td>\n",
       "      <td>Lvl</td>\n",
       "      <td>AllPub</td>\n",
       "      <td>...</td>\n",
       "      <td>0</td>\n",
       "      <td>NaN</td>\n",
       "      <td>NaN</td>\n",
       "      <td>NaN</td>\n",
       "      <td>0</td>\n",
       "      <td>9</td>\n",
       "      <td>2008</td>\n",
       "      <td>WD</td>\n",
       "      <td>Normal</td>\n",
       "      <td>223500</td>\n",
       "    </tr>\n",
       "    <tr>\n",
       "      <th>3</th>\n",
       "      <td>4</td>\n",
       "      <td>70</td>\n",
       "      <td>RL</td>\n",
       "      <td>60.0</td>\n",
       "      <td>9550</td>\n",
       "      <td>Pave</td>\n",
       "      <td>NaN</td>\n",
       "      <td>IR1</td>\n",
       "      <td>Lvl</td>\n",
       "      <td>AllPub</td>\n",
       "      <td>...</td>\n",
       "      <td>0</td>\n",
       "      <td>NaN</td>\n",
       "      <td>NaN</td>\n",
       "      <td>NaN</td>\n",
       "      <td>0</td>\n",
       "      <td>2</td>\n",
       "      <td>2006</td>\n",
       "      <td>WD</td>\n",
       "      <td>Abnorml</td>\n",
       "      <td>140000</td>\n",
       "    </tr>\n",
       "    <tr>\n",
       "      <th>4</th>\n",
       "      <td>5</td>\n",
       "      <td>60</td>\n",
       "      <td>RL</td>\n",
       "      <td>84.0</td>\n",
       "      <td>14260</td>\n",
       "      <td>Pave</td>\n",
       "      <td>NaN</td>\n",
       "      <td>IR1</td>\n",
       "      <td>Lvl</td>\n",
       "      <td>AllPub</td>\n",
       "      <td>...</td>\n",
       "      <td>0</td>\n",
       "      <td>NaN</td>\n",
       "      <td>NaN</td>\n",
       "      <td>NaN</td>\n",
       "      <td>0</td>\n",
       "      <td>12</td>\n",
       "      <td>2008</td>\n",
       "      <td>WD</td>\n",
       "      <td>Normal</td>\n",
       "      <td>250000</td>\n",
       "    </tr>\n",
       "  </tbody>\n",
       "</table>\n",
       "<p>5 rows × 81 columns</p>\n",
       "</div>"
      ],
      "text/plain": [
       "   Id  MSSubClass MSZoning  LotFrontage  LotArea Street Alley LotShape  \\\n",
       "0   1          60       RL         65.0     8450   Pave   NaN      Reg   \n",
       "1   2          20       RL         80.0     9600   Pave   NaN      Reg   \n",
       "2   3          60       RL         68.0    11250   Pave   NaN      IR1   \n",
       "3   4          70       RL         60.0     9550   Pave   NaN      IR1   \n",
       "4   5          60       RL         84.0    14260   Pave   NaN      IR1   \n",
       "\n",
       "  LandContour Utilities  ... PoolArea PoolQC Fence MiscFeature MiscVal MoSold  \\\n",
       "0         Lvl    AllPub  ...        0    NaN   NaN         NaN       0      2   \n",
       "1         Lvl    AllPub  ...        0    NaN   NaN         NaN       0      5   \n",
       "2         Lvl    AllPub  ...        0    NaN   NaN         NaN       0      9   \n",
       "3         Lvl    AllPub  ...        0    NaN   NaN         NaN       0      2   \n",
       "4         Lvl    AllPub  ...        0    NaN   NaN         NaN       0     12   \n",
       "\n",
       "  YrSold  SaleType  SaleCondition  SalePrice  \n",
       "0   2008        WD         Normal     208500  \n",
       "1   2007        WD         Normal     181500  \n",
       "2   2008        WD         Normal     223500  \n",
       "3   2006        WD        Abnorml     140000  \n",
       "4   2008        WD         Normal     250000  \n",
       "\n",
       "[5 rows x 81 columns]"
      ]
     },
     "execution_count": 3,
     "metadata": {},
     "output_type": "execute_result"
    }
   ],
   "source": [
    "df = pd.read_csv(\"./house_prices.csv\")\n",
    "df.head()"
   ]
  },
  {
   "cell_type": "code",
   "execution_count": 4,
   "metadata": {},
   "outputs": [
    {
     "data": {
      "text/plain": [
       "(1460, 81)"
      ]
     },
     "execution_count": 4,
     "metadata": {},
     "output_type": "execute_result"
    }
   ],
   "source": [
    "df.shape"
   ]
  },
  {
   "attachments": {},
   "cell_type": "markdown",
   "metadata": {},
   "source": [
    "## 3. Data Cleaning"
   ]
  },
  {
   "attachments": {},
   "cell_type": "markdown",
   "metadata": {},
   "source": [
    "The dataset is quite complex with up to 79 explanatory variables describing almost every single aspect of real-estates in Ames, Iowa. We will simplify the data by only including the barebones variables (to determine a house pice) in our analysis, which are:\n",
    "1. LotArea\n",
    "2. Neighborhood\n",
    "3. BedroomAbvGr\n",
    "4. FullBath\n",
    "5. HalfBath\n",
    "6. SalePrice"
   ]
  },
  {
   "cell_type": "code",
   "execution_count": 5,
   "metadata": {},
   "outputs": [
    {
     "data": {
      "text/html": [
       "<div>\n",
       "<style scoped>\n",
       "    .dataframe tbody tr th:only-of-type {\n",
       "        vertical-align: middle;\n",
       "    }\n",
       "\n",
       "    .dataframe tbody tr th {\n",
       "        vertical-align: top;\n",
       "    }\n",
       "\n",
       "    .dataframe thead th {\n",
       "        text-align: right;\n",
       "    }\n",
       "</style>\n",
       "<table border=\"1\" class=\"dataframe\">\n",
       "  <thead>\n",
       "    <tr style=\"text-align: right;\">\n",
       "      <th></th>\n",
       "      <th>LotArea</th>\n",
       "      <th>Neighborhood</th>\n",
       "      <th>BedroomAbvGr</th>\n",
       "      <th>FullBath</th>\n",
       "      <th>HalfBath</th>\n",
       "      <th>SalePrice</th>\n",
       "    </tr>\n",
       "  </thead>\n",
       "  <tbody>\n",
       "    <tr>\n",
       "      <th>0</th>\n",
       "      <td>8450</td>\n",
       "      <td>CollgCr</td>\n",
       "      <td>3</td>\n",
       "      <td>2</td>\n",
       "      <td>1</td>\n",
       "      <td>208500</td>\n",
       "    </tr>\n",
       "    <tr>\n",
       "      <th>1</th>\n",
       "      <td>9600</td>\n",
       "      <td>Veenker</td>\n",
       "      <td>3</td>\n",
       "      <td>2</td>\n",
       "      <td>0</td>\n",
       "      <td>181500</td>\n",
       "    </tr>\n",
       "    <tr>\n",
       "      <th>2</th>\n",
       "      <td>11250</td>\n",
       "      <td>CollgCr</td>\n",
       "      <td>3</td>\n",
       "      <td>2</td>\n",
       "      <td>1</td>\n",
       "      <td>223500</td>\n",
       "    </tr>\n",
       "    <tr>\n",
       "      <th>3</th>\n",
       "      <td>9550</td>\n",
       "      <td>Crawfor</td>\n",
       "      <td>3</td>\n",
       "      <td>1</td>\n",
       "      <td>0</td>\n",
       "      <td>140000</td>\n",
       "    </tr>\n",
       "    <tr>\n",
       "      <th>4</th>\n",
       "      <td>14260</td>\n",
       "      <td>NoRidge</td>\n",
       "      <td>4</td>\n",
       "      <td>2</td>\n",
       "      <td>1</td>\n",
       "      <td>250000</td>\n",
       "    </tr>\n",
       "  </tbody>\n",
       "</table>\n",
       "</div>"
      ],
      "text/plain": [
       "   LotArea Neighborhood  BedroomAbvGr  FullBath  HalfBath  SalePrice\n",
       "0     8450      CollgCr             3         2         1     208500\n",
       "1     9600      Veenker             3         2         0     181500\n",
       "2    11250      CollgCr             3         2         1     223500\n",
       "3     9550      Crawfor             3         1         0     140000\n",
       "4    14260      NoRidge             4         2         1     250000"
      ]
     },
     "execution_count": 5,
     "metadata": {},
     "output_type": "execute_result"
    }
   ],
   "source": [
    "df1 = df[['LotArea', 'Neighborhood', 'BedroomAbvGr', 'FullBath', 'HalfBath', 'SalePrice']]\n",
    "df1.head()"
   ]
  },
  {
   "cell_type": "code",
   "execution_count": 6,
   "metadata": {},
   "outputs": [
    {
     "data": {
      "text/html": [
       "<div>\n",
       "<style scoped>\n",
       "    .dataframe tbody tr th:only-of-type {\n",
       "        vertical-align: middle;\n",
       "    }\n",
       "\n",
       "    .dataframe tbody tr th {\n",
       "        vertical-align: top;\n",
       "    }\n",
       "\n",
       "    .dataframe thead th {\n",
       "        text-align: right;\n",
       "    }\n",
       "</style>\n",
       "<table border=\"1\" class=\"dataframe\">\n",
       "  <thead>\n",
       "    <tr style=\"text-align: right;\">\n",
       "      <th></th>\n",
       "      <th>LotArea</th>\n",
       "      <th>Neighborhood</th>\n",
       "      <th>BedroomAbvGr</th>\n",
       "      <th>FullBath</th>\n",
       "      <th>HalfBath</th>\n",
       "      <th>KitchenAbvGr</th>\n",
       "      <th>TotalBsmtSF</th>\n",
       "      <th>SalePrice</th>\n",
       "    </tr>\n",
       "  </thead>\n",
       "  <tbody>\n",
       "    <tr>\n",
       "      <th>0</th>\n",
       "      <td>8450</td>\n",
       "      <td>CollgCr</td>\n",
       "      <td>3</td>\n",
       "      <td>2</td>\n",
       "      <td>1</td>\n",
       "      <td>1</td>\n",
       "      <td>856</td>\n",
       "      <td>208500</td>\n",
       "    </tr>\n",
       "    <tr>\n",
       "      <th>1</th>\n",
       "      <td>9600</td>\n",
       "      <td>Veenker</td>\n",
       "      <td>3</td>\n",
       "      <td>2</td>\n",
       "      <td>0</td>\n",
       "      <td>1</td>\n",
       "      <td>1262</td>\n",
       "      <td>181500</td>\n",
       "    </tr>\n",
       "    <tr>\n",
       "      <th>2</th>\n",
       "      <td>11250</td>\n",
       "      <td>CollgCr</td>\n",
       "      <td>3</td>\n",
       "      <td>2</td>\n",
       "      <td>1</td>\n",
       "      <td>1</td>\n",
       "      <td>920</td>\n",
       "      <td>223500</td>\n",
       "    </tr>\n",
       "    <tr>\n",
       "      <th>3</th>\n",
       "      <td>9550</td>\n",
       "      <td>Crawfor</td>\n",
       "      <td>3</td>\n",
       "      <td>1</td>\n",
       "      <td>0</td>\n",
       "      <td>1</td>\n",
       "      <td>756</td>\n",
       "      <td>140000</td>\n",
       "    </tr>\n",
       "    <tr>\n",
       "      <th>4</th>\n",
       "      <td>14260</td>\n",
       "      <td>NoRidge</td>\n",
       "      <td>4</td>\n",
       "      <td>2</td>\n",
       "      <td>1</td>\n",
       "      <td>1</td>\n",
       "      <td>1145</td>\n",
       "      <td>250000</td>\n",
       "    </tr>\n",
       "  </tbody>\n",
       "</table>\n",
       "</div>"
      ],
      "text/plain": [
       "   LotArea Neighborhood  BedroomAbvGr  FullBath  HalfBath  KitchenAbvGr  \\\n",
       "0     8450      CollgCr             3         2         1             1   \n",
       "1     9600      Veenker             3         2         0             1   \n",
       "2    11250      CollgCr             3         2         1             1   \n",
       "3     9550      Crawfor             3         1         0             1   \n",
       "4    14260      NoRidge             4         2         1             1   \n",
       "\n",
       "   TotalBsmtSF  SalePrice  \n",
       "0          856     208500  \n",
       "1         1262     181500  \n",
       "2          920     223500  \n",
       "3          756     140000  \n",
       "4         1145     250000  "
      ]
     },
     "execution_count": 6,
     "metadata": {},
     "output_type": "execute_result"
    }
   ],
   "source": [
    "df1 = df[['LotArea', 'Neighborhood', 'BedroomAbvGr', 'FullBath', 'HalfBath', 'KitchenAbvGr', 'TotalBsmtSF', 'SalePrice']]\n",
    "df1.head()"
   ]
  },
  {
   "attachments": {},
   "cell_type": "markdown",
   "metadata": {},
   "source": [
    "Find any null values."
   ]
  },
  {
   "cell_type": "code",
   "execution_count": 7,
   "metadata": {},
   "outputs": [
    {
     "data": {
      "text/plain": [
       "LotArea         0\n",
       "Neighborhood    0\n",
       "BedroomAbvGr    0\n",
       "FullBath        0\n",
       "HalfBath        0\n",
       "KitchenAbvGr    0\n",
       "TotalBsmtSF     0\n",
       "SalePrice       0\n",
       "dtype: int64"
      ]
     },
     "execution_count": 7,
     "metadata": {},
     "output_type": "execute_result"
    }
   ],
   "source": [
    "df1.isnull().sum()"
   ]
  },
  {
   "attachments": {},
   "cell_type": "markdown",
   "metadata": {},
   "source": [
    "Find invalid data for each variables."
   ]
  },
  {
   "cell_type": "code",
   "execution_count": 8,
   "metadata": {},
   "outputs": [
    {
     "data": {
      "text/plain": [
       "array([ 8450,  9600, 11250, ..., 17217, 13175,  9717])"
      ]
     },
     "execution_count": 8,
     "metadata": {},
     "output_type": "execute_result"
    }
   ],
   "source": [
    "df1['LotArea'].unique()"
   ]
  },
  {
   "cell_type": "code",
   "execution_count": 9,
   "metadata": {},
   "outputs": [
    {
     "data": {
      "text/plain": [
       "array(['CollgCr', 'Veenker', 'Crawfor', 'NoRidge', 'Mitchel', 'Somerst',\n",
       "       'NWAmes', 'OldTown', 'BrkSide', 'Sawyer', 'NridgHt', 'NAmes',\n",
       "       'SawyerW', 'IDOTRR', 'MeadowV', 'Edwards', 'Timber', 'Gilbert',\n",
       "       'StoneBr', 'ClearCr', 'NPkVill', 'Blmngtn', 'BrDale', 'SWISU',\n",
       "       'Blueste'], dtype=object)"
      ]
     },
     "execution_count": 9,
     "metadata": {},
     "output_type": "execute_result"
    }
   ],
   "source": [
    "df1['Neighborhood'].unique()"
   ]
  },
  {
   "cell_type": "code",
   "execution_count": 10,
   "metadata": {},
   "outputs": [
    {
     "data": {
      "text/plain": [
       "array([3, 4, 1, 2, 0, 5, 6, 8])"
      ]
     },
     "execution_count": 10,
     "metadata": {},
     "output_type": "execute_result"
    }
   ],
   "source": [
    "df1['BedroomAbvGr'].unique()"
   ]
  },
  {
   "cell_type": "code",
   "execution_count": 11,
   "metadata": {},
   "outputs": [
    {
     "data": {
      "text/plain": [
       "array([2, 1, 3, 0])"
      ]
     },
     "execution_count": 11,
     "metadata": {},
     "output_type": "execute_result"
    }
   ],
   "source": [
    "df1['FullBath'].unique()"
   ]
  },
  {
   "cell_type": "code",
   "execution_count": 12,
   "metadata": {},
   "outputs": [
    {
     "data": {
      "text/plain": [
       "array([1, 0, 2])"
      ]
     },
     "execution_count": 12,
     "metadata": {},
     "output_type": "execute_result"
    }
   ],
   "source": [
    "df1['HalfBath'].unique()"
   ]
  },
  {
   "cell_type": "code",
   "execution_count": 13,
   "metadata": {},
   "outputs": [
    {
     "data": {
      "text/plain": [
       "array([208500, 181500, 223500, 140000, 250000, 143000, 307000, 200000,\n",
       "       129900, 118000, 129500, 345000, 144000, 279500, 157000, 132000,\n",
       "       149000,  90000, 159000, 139000, 325300, 139400, 230000, 154000,\n",
       "       256300, 134800, 306000, 207500,  68500,  40000, 149350, 179900,\n",
       "       165500, 277500, 309000, 145000, 153000, 109000,  82000, 160000,\n",
       "       170000, 130250, 141000, 319900, 239686, 249700, 113000, 127000,\n",
       "       177000, 114500, 110000, 385000, 130000, 180500, 172500, 196500,\n",
       "       438780, 124900, 158000, 101000, 202500, 219500, 317000, 180000,\n",
       "       226000,  80000, 225000, 244000, 185000, 144900, 107400,  91000,\n",
       "       135750, 136500, 193500, 153500, 245000, 126500, 168500, 260000,\n",
       "       174000, 164500,  85000, 123600, 109900,  98600, 163500, 133900,\n",
       "       204750, 214000,  94750,  83000, 128950, 205000, 178000, 118964,\n",
       "       198900, 169500, 100000, 115000, 190000, 136900, 383970, 217000,\n",
       "       259500, 176000, 155000, 320000, 163990, 136000, 153900, 181000,\n",
       "        84500, 128000,  87000, 150000, 150750, 220000, 171000, 231500,\n",
       "       166000, 204000, 125000, 105000, 222500, 122000, 372402, 235000,\n",
       "        79000, 109500, 269500, 254900, 162500, 412500, 103200, 152000,\n",
       "       127500, 325624, 183500, 228000, 128500, 215000, 239000, 163000,\n",
       "       184000, 243000, 211000, 501837, 200100, 120000, 475000, 173000,\n",
       "       135000, 153337, 286000, 315000, 192000, 148500, 311872, 104000,\n",
       "       274900, 171500, 112000, 143900, 277000,  98000, 186000, 252678,\n",
       "       156000, 161750, 134450, 210000, 107000, 311500, 167240, 204900,\n",
       "        97000, 386250, 290000, 106000, 192500, 148000, 403000,  94500,\n",
       "       128200, 216500,  89500, 185500, 194500, 318000, 262500, 110500,\n",
       "       241500, 137000,  76500, 276000, 151000,  73000, 175500, 179500,\n",
       "       120500, 266000, 124500, 201000, 415298, 228500, 244600, 179200,\n",
       "       164700,  88000, 153575, 233230, 135900, 131000, 167000, 142500,\n",
       "       175000, 158500, 267000, 149900, 295000, 305900,  82500, 360000,\n",
       "       165600, 119900, 375000, 188500, 270000, 187500, 342643, 354000,\n",
       "       301000, 126175, 242000, 324000, 145250, 214500,  78000, 119000,\n",
       "       284000, 207000, 228950, 377426, 202900,  87500, 140200, 151500,\n",
       "       157500, 437154, 318061,  95000, 105900, 177500, 134000, 280000,\n",
       "       198500, 147000, 165000, 162000, 172400, 134432, 123000,  61000,\n",
       "       340000, 394432, 179000, 187750, 213500,  76000, 240000,  81000,\n",
       "       191000, 426000, 106500, 129000,  67000, 241000, 245500, 164990,\n",
       "       108000, 258000, 168000, 339750,  60000, 222000, 181134, 149500,\n",
       "       126000, 142000, 206300, 275000, 109008, 195400,  85400,  79900,\n",
       "       122500, 212000, 116000,  90350, 555000, 162900, 199900, 119500,\n",
       "       188000, 256000, 161000, 263435,  62383, 188700, 124000, 178740,\n",
       "       146500, 187000, 440000, 251000, 132500, 208900, 380000, 297000,\n",
       "        89471, 326000, 374000, 164000,  86000, 133000, 172785,  91300,\n",
       "        34900, 430000, 226700, 289000, 208300, 164900, 202665,  96500,\n",
       "       402861, 265000, 234000, 106250, 184750, 315750, 446261, 200624,\n",
       "       107500,  39300, 111250, 272000, 248000, 213250, 179665, 229000,\n",
       "       263000, 112500, 255500, 121500, 268000, 325000, 316600, 135960,\n",
       "       142600, 224500, 118500, 146000, 131500, 181900, 253293, 369900,\n",
       "        79500, 185900, 451950, 138000, 319000, 114504, 194201, 217500,\n",
       "       221000, 359100, 313000, 261500,  75500, 137500, 183200, 105500,\n",
       "       314813, 305000, 165150, 139900, 209500,  93000, 264561, 274000,\n",
       "       370878, 143250,  98300, 205950, 350000, 145500,  97500, 197900,\n",
       "       402000, 423000, 230500, 173500, 103600, 257500, 372500, 159434,\n",
       "       285000, 227875, 148800, 392000, 194700, 755000, 335000, 108480,\n",
       "       141500,  89000, 123500, 138500, 196000, 312500, 361919, 213000,\n",
       "        55000, 302000, 254000, 179540,  52000, 102776, 189000, 130500,\n",
       "       159500, 341000, 103000, 236500, 131400,  93500, 239900, 299800,\n",
       "       236000, 265979, 260400, 275500, 158900, 179400, 215200, 337000,\n",
       "       264132, 216837, 538000, 134900, 102000, 395000, 221500, 175900,\n",
       "       187100, 161500, 233000, 107900, 160200, 146800, 269790, 143500,\n",
       "       485000, 582933, 227680, 135500, 159950, 144500,  55993, 157900,\n",
       "       224900, 271000, 224000, 183000, 139500, 232600, 147400, 237000,\n",
       "       139950, 174900, 133500, 189950, 250580, 248900, 169000, 200500,\n",
       "        66500, 303477, 132250, 328900, 122900, 154500, 118858, 142953,\n",
       "       611657, 125500, 255000, 154300, 173733,  75000,  35311, 238000,\n",
       "       176500, 145900, 169990, 193000, 117500, 184900, 253000, 239799,\n",
       "       244400, 150900, 197500, 172000, 116500, 214900, 178900,  37900,\n",
       "        99500, 182000, 167500,  85500, 178400, 336000, 159895, 255900,\n",
       "       117000, 395192, 195000, 197000, 348000, 173900, 337500, 121600,\n",
       "       206000, 232000, 136905, 119200, 227000, 203000, 213490, 194000,\n",
       "       287000, 293077, 310000, 119750,  84000, 315500, 262280, 278000,\n",
       "       139600, 556581,  84900, 176485, 200141, 185850, 328000, 167900,\n",
       "       151400,  91500, 138800, 155900,  83500, 252000,  92900, 176432,\n",
       "       274725, 134500, 184100, 133700, 118400, 212900, 163900, 259000,\n",
       "       239500,  94000, 424870, 174500, 116900, 201800, 218000, 235128,\n",
       "       108959, 233170, 245350, 625000, 171900, 154900, 392500, 745000,\n",
       "       186700, 104900, 262000, 219210, 116050, 271900, 229456,  80500,\n",
       "       137900, 367294, 101800, 138887, 265900, 248328, 465000, 186500,\n",
       "       169900, 171750, 294000, 165400, 301500,  99900, 128900, 183900,\n",
       "       378500, 381000, 185750,  68400, 150500, 281000, 333168, 206900,\n",
       "       295493, 111000, 156500,  72500,  52500, 155835, 108500, 283463,\n",
       "       410000, 156932, 144152, 216000, 274300, 466500,  58500, 237500,\n",
       "       377500, 246578, 281213, 137450, 193879, 282922, 257000, 223000,\n",
       "       274970, 182900, 192140, 143750,  64500, 394617, 149700, 149300,\n",
       "       121000, 179600,  92000, 287090, 266500, 142125, 147500])"
      ]
     },
     "execution_count": 13,
     "metadata": {},
     "output_type": "execute_result"
    }
   ],
   "source": [
    "df1['SalePrice'].unique()"
   ]
  },
  {
   "cell_type": "code",
   "execution_count": 14,
   "metadata": {},
   "outputs": [
    {
     "data": {
      "text/plain": [
       "array([1, 2, 3, 0])"
      ]
     },
     "execution_count": 14,
     "metadata": {},
     "output_type": "execute_result"
    }
   ],
   "source": [
    "df1['KitchenAbvGr'].unique()"
   ]
  },
  {
   "cell_type": "code",
   "execution_count": 15,
   "metadata": {},
   "outputs": [
    {
     "data": {
      "text/plain": [
       "array([ 856, 1262,  920,  756, 1145,  796, 1686, 1107,  952,  991, 1040,\n",
       "       1175,  912, 1494, 1253,  832, 1004,    0, 1114, 1029, 1158,  637,\n",
       "       1777, 1060, 1566,  900, 1704, 1484,  520,  649, 1228, 1234, 1398,\n",
       "       1561, 1117, 1097, 1297, 1057, 1088, 1350,  840,  938, 1150, 1752,\n",
       "       1434, 1656,  736,  955,  794,  816, 1842,  384, 1425,  970,  860,\n",
       "       1410,  780,  530, 1370,  576, 1143, 1947, 1453,  747, 1304, 2223,\n",
       "        845, 1086,  462,  672, 1768,  440,  896, 1237, 1563, 1065, 1288,\n",
       "        684,  612, 1013,  990, 1235,  876, 1214,  824,  680, 1588,  960,\n",
       "        458,  950, 1610,  741, 1226, 1053,  641,  789,  793, 1844,  994,\n",
       "       1264, 1809, 1028,  729, 1092, 1125, 1673,  728,  732, 1080, 1199,\n",
       "       1362, 1078,  660, 1008,  924,  992, 1063, 1267, 1461, 1907,  928,\n",
       "        864, 1734,  910, 1490, 1728,  715,  884,  969, 1710,  825, 1602,\n",
       "       1200,  572,  774, 1392, 1232, 1572, 1541,  882, 1149,  644, 1617,\n",
       "       1582,  720, 1064, 1606, 1202, 1151, 1052, 2216,  968,  504, 1188,\n",
       "       1593,  853,  725, 1431,  855, 1726, 1360,  755, 1713, 1121, 1196,\n",
       "        617,  848, 1424, 1140, 1100, 1157, 1212,  689, 1070, 1436,  686,\n",
       "        798, 1248, 1498, 1010,  713, 2392,  630, 1203,  483, 1373, 1194,\n",
       "       1462,  894, 1414,  996, 1694,  735,  540,  626,  948, 1845, 1020,\n",
       "       1367, 1444, 1573, 1302, 1314,  975, 1604,  963, 1482,  506,  926,\n",
       "       1422,  802,  740, 1095, 1385, 1152, 1240, 1560, 2121, 1160,  807,\n",
       "       1468, 1575,  625,  858,  698, 1079,  768,  795, 1416, 1003,  702,\n",
       "       1165, 1470, 2000,  700,  319,  861, 1896,  697,  972, 2136,  716,\n",
       "       1347, 1372, 1249, 1136, 1502, 1162,  710, 1719, 1383,  844,  596,\n",
       "       1056, 3206, 1358,  943, 1499, 1922, 1536, 1208, 1215,  967,  721,\n",
       "       1684,  536,  958, 1478,  764, 1848, 1869,  616,  624,  940, 1142,\n",
       "       1062,  888,  883, 1394, 1099, 1268,  953,  744,  608,  847,  683,\n",
       "        870, 1580, 1856,  982, 1026, 1293,  939,  784, 1256,  658, 1041,\n",
       "       1682,  804,  788, 1144,  961, 1260, 1310, 1141,  806, 1281, 1034,\n",
       "       1276, 1340, 1344,  988,  651, 1518,  907,  901,  765,  799,  648,\n",
       "       3094, 1440, 1258,  915, 1517,  930,  813, 1533,  872, 1242, 1364,\n",
       "        588,  709,  560, 1375, 1277, 1626, 1488,  808,  547, 1976, 2153,\n",
       "       1705, 1833, 1792, 1216,  999, 1113, 1073,  954,  264, 1269,  190,\n",
       "       3200,  866, 1501,  777, 1218, 1368, 1084, 2006, 1244, 3138, 1379,\n",
       "       1257, 1452,  528, 2035,  611,  707,  880, 1051, 1581, 1838, 1650,\n",
       "        723,  654, 1204, 1069, 1709,  998,  993, 1374, 1389, 1163, 1122,\n",
       "       1496,  846,  372, 1164, 1050, 2042, 1868, 1437,  742,  770, 1722,\n",
       "       1814, 1430, 1058,  908,  600,  965, 1032, 1299, 1120,  936,  783,\n",
       "       1822, 1522,  980, 1116,  978, 1156,  636, 1554, 1386,  811, 1520,\n",
       "       1952, 1766,  981, 1094, 2109,  525,  776, 1486, 1629, 1138, 2077,\n",
       "       1406, 1021, 1408,  738, 1477, 2046,  923, 1291, 1195, 1190,  874,\n",
       "        551, 1419, 2444, 1210,  927, 1112, 1391, 1800,  360, 1473, 1643,\n",
       "       1324,  270,  859,  718, 1176, 1311,  971, 1742,  941, 1698, 1584,\n",
       "       1595,  868, 1153,  893, 1349, 1337, 1720, 1479, 1030, 1318, 1252,\n",
       "        983, 1860,  836, 1935, 1614,  761, 1413,  956,  712,  650,  773,\n",
       "       1926,  731, 1417, 1024,  849, 1442, 1649, 1568,  778, 1489, 2078,\n",
       "       1454, 1516, 1067, 1559, 1127, 1390, 1273,  918, 1763, 1090, 1054,\n",
       "       1039, 1148, 1002, 1638,  105,  676, 1184, 1109,  892, 2217, 1505,\n",
       "       1059,  951, 2330, 1670, 1623, 1017, 1105, 1001,  546,  480, 1134,\n",
       "       1104, 1272, 1316, 1126, 1181, 1753,  964, 1466,  925, 1905, 1500,\n",
       "        585, 1632,  819, 1616, 1161,  828,  945,  979,  561,  696, 1330,\n",
       "        817, 1098, 1428,  673, 1241,  944, 1225, 1266, 1128,  485, 1930,\n",
       "       1396,  916,  822,  750, 1700, 1007, 1187,  691, 1574, 1680, 1346,\n",
       "        985, 1657,  602, 1022, 1082,  810, 1504, 1220, 1132, 1565, 1338,\n",
       "       1654, 1620, 1055,  800, 1306, 1475, 2524, 1992, 1193,  973,  854,\n",
       "        662, 1103, 1154,  942, 1048,  727,  690, 1096, 1459, 1251, 1247,\n",
       "       1074, 1271,  290,  655, 1463, 1836,  803,  833,  408,  533, 1012,\n",
       "       1552, 1005, 1530,  974, 1567, 1006, 1042, 1298,  704,  932, 1219,\n",
       "       1296, 1198,  959, 1261, 1598, 1683,  818, 1600, 2396, 1624,  831,\n",
       "       1224,  663,  879,  815, 1630, 2158,  931, 1660,  559, 1300, 1702,\n",
       "       1075, 1361, 1106, 1476, 1689, 2076,  792, 2110, 1405, 1192,  746,\n",
       "       1986,  841, 2002, 1332,  935, 1019,  661, 1309, 1328, 1085, 6110,\n",
       "       1246,  771,  976, 1652, 1278, 1902, 1274, 1393, 1622, 1352,  420,\n",
       "       1795,  544, 1510,  911,  693, 1284, 1732, 2033,  570, 1980,  814,\n",
       "        873,  757, 1108, 2633, 1571,  984, 1205,  714, 1746, 1525,  482,\n",
       "       1356,  862,  839, 1286, 1485, 1594,  622,  791,  708, 1223,  913,\n",
       "        656, 1319, 1932,  539, 1221, 1542])"
      ]
     },
     "execution_count": 15,
     "metadata": {},
     "output_type": "execute_result"
    }
   ],
   "source": [
    "df1['TotalBsmtSF'].unique()"
   ]
  },
  {
   "attachments": {},
   "cell_type": "markdown",
   "metadata": {},
   "source": [
    "The data is already quite clean out-of the box, so not much cleaning was needed."
   ]
  },
  {
   "attachments": {},
   "cell_type": "markdown",
   "metadata": {},
   "source": [
    "However, since we have two variables for the number of bathrooms, we may as well merge the FullBath and HalfBath variables by obtaining the sum, store the values into a new column Bathroom, and drop the two former variables."
   ]
  },
  {
   "cell_type": "code",
   "execution_count": 16,
   "metadata": {},
   "outputs": [
    {
     "name": "stderr",
     "output_type": "stream",
     "text": [
      "/var/folders/wz/tf7dxb7n1kn6qkltdtxz4zbw0000gn/T/ipykernel_33481/3879494178.py:1: SettingWithCopyWarning: \n",
      "A value is trying to be set on a copy of a slice from a DataFrame.\n",
      "Try using .loc[row_indexer,col_indexer] = value instead\n",
      "\n",
      "See the caveats in the documentation: https://pandas.pydata.org/pandas-docs/stable/user_guide/indexing.html#returning-a-view-versus-a-copy\n",
      "  df1['Bathroom'] = df1.loc[:, ['HalfBath','FullBath']].sum(axis=1)\n"
     ]
    }
   ],
   "source": [
    "df1['Bathroom'] = df1.loc[:, ['HalfBath','FullBath']].sum(axis=1)"
   ]
  },
  {
   "cell_type": "code",
   "execution_count": 17,
   "metadata": {},
   "outputs": [
    {
     "data": {
      "text/html": [
       "<div>\n",
       "<style scoped>\n",
       "    .dataframe tbody tr th:only-of-type {\n",
       "        vertical-align: middle;\n",
       "    }\n",
       "\n",
       "    .dataframe tbody tr th {\n",
       "        vertical-align: top;\n",
       "    }\n",
       "\n",
       "    .dataframe thead th {\n",
       "        text-align: right;\n",
       "    }\n",
       "</style>\n",
       "<table border=\"1\" class=\"dataframe\">\n",
       "  <thead>\n",
       "    <tr style=\"text-align: right;\">\n",
       "      <th></th>\n",
       "      <th>LotArea</th>\n",
       "      <th>Neighborhood</th>\n",
       "      <th>BedroomAbvGr</th>\n",
       "      <th>FullBath</th>\n",
       "      <th>HalfBath</th>\n",
       "      <th>KitchenAbvGr</th>\n",
       "      <th>TotalBsmtSF</th>\n",
       "      <th>SalePrice</th>\n",
       "      <th>Bathroom</th>\n",
       "    </tr>\n",
       "  </thead>\n",
       "  <tbody>\n",
       "    <tr>\n",
       "      <th>0</th>\n",
       "      <td>8450</td>\n",
       "      <td>CollgCr</td>\n",
       "      <td>3</td>\n",
       "      <td>2</td>\n",
       "      <td>1</td>\n",
       "      <td>1</td>\n",
       "      <td>856</td>\n",
       "      <td>208500</td>\n",
       "      <td>3</td>\n",
       "    </tr>\n",
       "    <tr>\n",
       "      <th>1</th>\n",
       "      <td>9600</td>\n",
       "      <td>Veenker</td>\n",
       "      <td>3</td>\n",
       "      <td>2</td>\n",
       "      <td>0</td>\n",
       "      <td>1</td>\n",
       "      <td>1262</td>\n",
       "      <td>181500</td>\n",
       "      <td>2</td>\n",
       "    </tr>\n",
       "    <tr>\n",
       "      <th>2</th>\n",
       "      <td>11250</td>\n",
       "      <td>CollgCr</td>\n",
       "      <td>3</td>\n",
       "      <td>2</td>\n",
       "      <td>1</td>\n",
       "      <td>1</td>\n",
       "      <td>920</td>\n",
       "      <td>223500</td>\n",
       "      <td>3</td>\n",
       "    </tr>\n",
       "    <tr>\n",
       "      <th>3</th>\n",
       "      <td>9550</td>\n",
       "      <td>Crawfor</td>\n",
       "      <td>3</td>\n",
       "      <td>1</td>\n",
       "      <td>0</td>\n",
       "      <td>1</td>\n",
       "      <td>756</td>\n",
       "      <td>140000</td>\n",
       "      <td>1</td>\n",
       "    </tr>\n",
       "    <tr>\n",
       "      <th>4</th>\n",
       "      <td>14260</td>\n",
       "      <td>NoRidge</td>\n",
       "      <td>4</td>\n",
       "      <td>2</td>\n",
       "      <td>1</td>\n",
       "      <td>1</td>\n",
       "      <td>1145</td>\n",
       "      <td>250000</td>\n",
       "      <td>3</td>\n",
       "    </tr>\n",
       "  </tbody>\n",
       "</table>\n",
       "</div>"
      ],
      "text/plain": [
       "   LotArea Neighborhood  BedroomAbvGr  FullBath  HalfBath  KitchenAbvGr  \\\n",
       "0     8450      CollgCr             3         2         1             1   \n",
       "1     9600      Veenker             3         2         0             1   \n",
       "2    11250      CollgCr             3         2         1             1   \n",
       "3     9550      Crawfor             3         1         0             1   \n",
       "4    14260      NoRidge             4         2         1             1   \n",
       "\n",
       "   TotalBsmtSF  SalePrice  Bathroom  \n",
       "0          856     208500         3  \n",
       "1         1262     181500         2  \n",
       "2          920     223500         3  \n",
       "3          756     140000         1  \n",
       "4         1145     250000         3  "
      ]
     },
     "execution_count": 17,
     "metadata": {},
     "output_type": "execute_result"
    }
   ],
   "source": [
    "df1.head()"
   ]
  },
  {
   "cell_type": "code",
   "execution_count": 18,
   "metadata": {},
   "outputs": [
    {
     "data": {
      "text/html": [
       "<div>\n",
       "<style scoped>\n",
       "    .dataframe tbody tr th:only-of-type {\n",
       "        vertical-align: middle;\n",
       "    }\n",
       "\n",
       "    .dataframe tbody tr th {\n",
       "        vertical-align: top;\n",
       "    }\n",
       "\n",
       "    .dataframe thead th {\n",
       "        text-align: right;\n",
       "    }\n",
       "</style>\n",
       "<table border=\"1\" class=\"dataframe\">\n",
       "  <thead>\n",
       "    <tr style=\"text-align: right;\">\n",
       "      <th></th>\n",
       "      <th>LotArea</th>\n",
       "      <th>Neighborhood</th>\n",
       "      <th>BedroomAbvGr</th>\n",
       "      <th>KitchenAbvGr</th>\n",
       "      <th>TotalBsmtSF</th>\n",
       "      <th>SalePrice</th>\n",
       "      <th>Bathroom</th>\n",
       "    </tr>\n",
       "  </thead>\n",
       "  <tbody>\n",
       "    <tr>\n",
       "      <th>0</th>\n",
       "      <td>8450</td>\n",
       "      <td>CollgCr</td>\n",
       "      <td>3</td>\n",
       "      <td>1</td>\n",
       "      <td>856</td>\n",
       "      <td>208500</td>\n",
       "      <td>3</td>\n",
       "    </tr>\n",
       "    <tr>\n",
       "      <th>1</th>\n",
       "      <td>9600</td>\n",
       "      <td>Veenker</td>\n",
       "      <td>3</td>\n",
       "      <td>1</td>\n",
       "      <td>1262</td>\n",
       "      <td>181500</td>\n",
       "      <td>2</td>\n",
       "    </tr>\n",
       "    <tr>\n",
       "      <th>2</th>\n",
       "      <td>11250</td>\n",
       "      <td>CollgCr</td>\n",
       "      <td>3</td>\n",
       "      <td>1</td>\n",
       "      <td>920</td>\n",
       "      <td>223500</td>\n",
       "      <td>3</td>\n",
       "    </tr>\n",
       "    <tr>\n",
       "      <th>3</th>\n",
       "      <td>9550</td>\n",
       "      <td>Crawfor</td>\n",
       "      <td>3</td>\n",
       "      <td>1</td>\n",
       "      <td>756</td>\n",
       "      <td>140000</td>\n",
       "      <td>1</td>\n",
       "    </tr>\n",
       "    <tr>\n",
       "      <th>4</th>\n",
       "      <td>14260</td>\n",
       "      <td>NoRidge</td>\n",
       "      <td>4</td>\n",
       "      <td>1</td>\n",
       "      <td>1145</td>\n",
       "      <td>250000</td>\n",
       "      <td>3</td>\n",
       "    </tr>\n",
       "  </tbody>\n",
       "</table>\n",
       "</div>"
      ],
      "text/plain": [
       "   LotArea Neighborhood  BedroomAbvGr  KitchenAbvGr  TotalBsmtSF  SalePrice  \\\n",
       "0     8450      CollgCr             3             1          856     208500   \n",
       "1     9600      Veenker             3             1         1262     181500   \n",
       "2    11250      CollgCr             3             1          920     223500   \n",
       "3     9550      Crawfor             3             1          756     140000   \n",
       "4    14260      NoRidge             4             1         1145     250000   \n",
       "\n",
       "   Bathroom  \n",
       "0         3  \n",
       "1         2  \n",
       "2         3  \n",
       "3         1  \n",
       "4         3  "
      ]
     },
     "execution_count": 18,
     "metadata": {},
     "output_type": "execute_result"
    }
   ],
   "source": [
    "df2 = df1[df1.columns[~df1.columns.isin(['HalfBath','FullBath'])]]\n",
    "df2.head()"
   ]
  },
  {
   "attachments": {},
   "cell_type": "markdown",
   "metadata": {},
   "source": [
    "Add variable area above ground."
   ]
  },
  {
   "cell_type": "code",
   "execution_count": 19,
   "metadata": {},
   "outputs": [
    {
     "data": {
      "text/html": [
       "<div>\n",
       "<style scoped>\n",
       "    .dataframe tbody tr th:only-of-type {\n",
       "        vertical-align: middle;\n",
       "    }\n",
       "\n",
       "    .dataframe tbody tr th {\n",
       "        vertical-align: top;\n",
       "    }\n",
       "\n",
       "    .dataframe thead th {\n",
       "        text-align: right;\n",
       "    }\n",
       "</style>\n",
       "<table border=\"1\" class=\"dataframe\">\n",
       "  <thead>\n",
       "    <tr style=\"text-align: right;\">\n",
       "      <th></th>\n",
       "      <th>LotArea</th>\n",
       "      <th>Neighborhood</th>\n",
       "      <th>BedroomAbvGr</th>\n",
       "      <th>KitchenAbvGr</th>\n",
       "      <th>TotalBsmtSF</th>\n",
       "      <th>SalePrice</th>\n",
       "      <th>Bathroom</th>\n",
       "      <th>AreaAboveGr</th>\n",
       "    </tr>\n",
       "  </thead>\n",
       "  <tbody>\n",
       "    <tr>\n",
       "      <th>0</th>\n",
       "      <td>8450</td>\n",
       "      <td>CollgCr</td>\n",
       "      <td>3</td>\n",
       "      <td>1</td>\n",
       "      <td>856</td>\n",
       "      <td>208500</td>\n",
       "      <td>3</td>\n",
       "      <td>7594</td>\n",
       "    </tr>\n",
       "    <tr>\n",
       "      <th>1</th>\n",
       "      <td>9600</td>\n",
       "      <td>Veenker</td>\n",
       "      <td>3</td>\n",
       "      <td>1</td>\n",
       "      <td>1262</td>\n",
       "      <td>181500</td>\n",
       "      <td>2</td>\n",
       "      <td>8338</td>\n",
       "    </tr>\n",
       "    <tr>\n",
       "      <th>2</th>\n",
       "      <td>11250</td>\n",
       "      <td>CollgCr</td>\n",
       "      <td>3</td>\n",
       "      <td>1</td>\n",
       "      <td>920</td>\n",
       "      <td>223500</td>\n",
       "      <td>3</td>\n",
       "      <td>10330</td>\n",
       "    </tr>\n",
       "    <tr>\n",
       "      <th>3</th>\n",
       "      <td>9550</td>\n",
       "      <td>Crawfor</td>\n",
       "      <td>3</td>\n",
       "      <td>1</td>\n",
       "      <td>756</td>\n",
       "      <td>140000</td>\n",
       "      <td>1</td>\n",
       "      <td>8794</td>\n",
       "    </tr>\n",
       "    <tr>\n",
       "      <th>4</th>\n",
       "      <td>14260</td>\n",
       "      <td>NoRidge</td>\n",
       "      <td>4</td>\n",
       "      <td>1</td>\n",
       "      <td>1145</td>\n",
       "      <td>250000</td>\n",
       "      <td>3</td>\n",
       "      <td>13115</td>\n",
       "    </tr>\n",
       "  </tbody>\n",
       "</table>\n",
       "</div>"
      ],
      "text/plain": [
       "   LotArea Neighborhood  BedroomAbvGr  KitchenAbvGr  TotalBsmtSF  SalePrice  \\\n",
       "0     8450      CollgCr             3             1          856     208500   \n",
       "1     9600      Veenker             3             1         1262     181500   \n",
       "2    11250      CollgCr             3             1          920     223500   \n",
       "3     9550      Crawfor             3             1          756     140000   \n",
       "4    14260      NoRidge             4             1         1145     250000   \n",
       "\n",
       "   Bathroom  AreaAboveGr  \n",
       "0         3         7594  \n",
       "1         2         8338  \n",
       "2         3        10330  \n",
       "3         1         8794  \n",
       "4         3        13115  "
      ]
     },
     "execution_count": 19,
     "metadata": {},
     "output_type": "execute_result"
    }
   ],
   "source": [
    "df3 = df2.copy()\n",
    "df3['AreaAboveGr'] = df3.LotArea - df3.TotalBsmtSF\n",
    "df3.head()"
   ]
  },
  {
   "attachments": {},
   "cell_type": "markdown",
   "metadata": {},
   "source": [
    "## 3. Feature Engineering & Outlier Removal"
   ]
  },
  {
   "attachments": {},
   "cell_type": "markdown",
   "metadata": {},
   "source": [
    "Let's calculate the price per square meter of each real-estate."
   ]
  },
  {
   "cell_type": "code",
   "execution_count": 20,
   "metadata": {},
   "outputs": [
    {
     "data": {
      "text/html": [
       "<div>\n",
       "<style scoped>\n",
       "    .dataframe tbody tr th:only-of-type {\n",
       "        vertical-align: middle;\n",
       "    }\n",
       "\n",
       "    .dataframe tbody tr th {\n",
       "        vertical-align: top;\n",
       "    }\n",
       "\n",
       "    .dataframe thead th {\n",
       "        text-align: right;\n",
       "    }\n",
       "</style>\n",
       "<table border=\"1\" class=\"dataframe\">\n",
       "  <thead>\n",
       "    <tr style=\"text-align: right;\">\n",
       "      <th></th>\n",
       "      <th>LotArea</th>\n",
       "      <th>Neighborhood</th>\n",
       "      <th>BedroomAbvGr</th>\n",
       "      <th>KitchenAbvGr</th>\n",
       "      <th>TotalBsmtSF</th>\n",
       "      <th>SalePrice</th>\n",
       "      <th>Bathroom</th>\n",
       "      <th>AreaAboveGr</th>\n",
       "      <th>PriceSqFt</th>\n",
       "    </tr>\n",
       "  </thead>\n",
       "  <tbody>\n",
       "    <tr>\n",
       "      <th>0</th>\n",
       "      <td>8450</td>\n",
       "      <td>CollgCr</td>\n",
       "      <td>3</td>\n",
       "      <td>1</td>\n",
       "      <td>856</td>\n",
       "      <td>208500</td>\n",
       "      <td>3</td>\n",
       "      <td>7594</td>\n",
       "      <td>24.674556</td>\n",
       "    </tr>\n",
       "    <tr>\n",
       "      <th>1</th>\n",
       "      <td>9600</td>\n",
       "      <td>Veenker</td>\n",
       "      <td>3</td>\n",
       "      <td>1</td>\n",
       "      <td>1262</td>\n",
       "      <td>181500</td>\n",
       "      <td>2</td>\n",
       "      <td>8338</td>\n",
       "      <td>18.906250</td>\n",
       "    </tr>\n",
       "    <tr>\n",
       "      <th>2</th>\n",
       "      <td>11250</td>\n",
       "      <td>CollgCr</td>\n",
       "      <td>3</td>\n",
       "      <td>1</td>\n",
       "      <td>920</td>\n",
       "      <td>223500</td>\n",
       "      <td>3</td>\n",
       "      <td>10330</td>\n",
       "      <td>19.866667</td>\n",
       "    </tr>\n",
       "    <tr>\n",
       "      <th>3</th>\n",
       "      <td>9550</td>\n",
       "      <td>Crawfor</td>\n",
       "      <td>3</td>\n",
       "      <td>1</td>\n",
       "      <td>756</td>\n",
       "      <td>140000</td>\n",
       "      <td>1</td>\n",
       "      <td>8794</td>\n",
       "      <td>14.659686</td>\n",
       "    </tr>\n",
       "    <tr>\n",
       "      <th>4</th>\n",
       "      <td>14260</td>\n",
       "      <td>NoRidge</td>\n",
       "      <td>4</td>\n",
       "      <td>1</td>\n",
       "      <td>1145</td>\n",
       "      <td>250000</td>\n",
       "      <td>3</td>\n",
       "      <td>13115</td>\n",
       "      <td>17.531557</td>\n",
       "    </tr>\n",
       "  </tbody>\n",
       "</table>\n",
       "</div>"
      ],
      "text/plain": [
       "   LotArea Neighborhood  BedroomAbvGr  KitchenAbvGr  TotalBsmtSF  SalePrice  \\\n",
       "0     8450      CollgCr             3             1          856     208500   \n",
       "1     9600      Veenker             3             1         1262     181500   \n",
       "2    11250      CollgCr             3             1          920     223500   \n",
       "3     9550      Crawfor             3             1          756     140000   \n",
       "4    14260      NoRidge             4             1         1145     250000   \n",
       "\n",
       "   Bathroom  AreaAboveGr  PriceSqFt  \n",
       "0         3         7594  24.674556  \n",
       "1         2         8338  18.906250  \n",
       "2         3        10330  19.866667  \n",
       "3         1         8794  14.659686  \n",
       "4         3        13115  17.531557  "
      ]
     },
     "execution_count": 20,
     "metadata": {},
     "output_type": "execute_result"
    }
   ],
   "source": [
    "df4 = df3.copy()\n",
    "df4['PriceSqFt'] = df4['SalePrice'] / df4['LotArea']\n",
    "df4.head()"
   ]
  },
  {
   "attachments": {},
   "cell_type": "markdown",
   "metadata": {},
   "source": [
    "Let's focus on the price per square meter variable."
   ]
  },
  {
   "cell_type": "code",
   "execution_count": 21,
   "metadata": {},
   "outputs": [
    {
     "data": {
      "text/plain": [
       "count    1460.000000\n",
       "mean       21.069878\n",
       "std        12.387559\n",
       "min         1.390441\n",
       "25%        13.775136\n",
       "50%        17.856628\n",
       "75%        23.769031\n",
       "max        95.384615\n",
       "Name: PriceSqFt, dtype: float64"
      ]
     },
     "execution_count": 21,
     "metadata": {},
     "output_type": "execute_result"
    }
   ],
   "source": [
    "df4.PriceSqFt.describe()"
   ]
  },
  {
   "attachments": {},
   "cell_type": "markdown",
   "metadata": {},
   "source": [
    "Remove outliers in PriceSquareM based on the mean and standard deviations. This means that extreme values will not beincluded in our dataframe in order to have a better prediction model."
   ]
  },
  {
   "cell_type": "code",
   "execution_count": 24,
   "metadata": {},
   "outputs": [
    {
     "name": "stdout",
     "output_type": "stream",
     "text": [
      "Dataframe shape before outlier removal =  (1460, 9)\n",
      "Dataframe shape after outlier removal =  (1095, 9)\n",
      "Outliers removed = 363\n"
     ]
    }
   ],
   "source": [
    "def remove_pricesqft_outliers(df):\n",
    "    df_out = pd.DataFrame()\n",
    "    for key, subdf in df.groupby('Neighborhood'):\n",
    "        m = np.mean(subdf.PriceSqFt)\n",
    "        st = np.std(subdf.PriceSqFt)\n",
    "        reduced_df = subdf[ (subdf.PriceSqFt > (m-st)) & (subdf.PriceSqFt <= (m+st)) ]\n",
    "        df_out = pd.concat([df_out, reduced_df],ignore_index=True)\n",
    "    return df_out\n",
    "\n",
    "df5 = remove_pricesqft_outliers(df4)\n",
    "print(\"Dataframe shape before outlier removal = \", df4.shape)\n",
    "print(\"Dataframe shape after outlier removal = \", df5.shape)\n",
    "print(\"Outliers removed =\", 1460-1097)"
   ]
  },
  {
   "attachments": {},
   "cell_type": "markdown",
   "metadata": {},
   "source": [
    "Remove variables that are no longer necessary and keep the essential one for building the model for the next stage."
   ]
  },
  {
   "cell_type": "code",
   "execution_count": 78,
   "metadata": {},
   "outputs": [
    {
     "data": {
      "text/html": [
       "<div>\n",
       "<style scoped>\n",
       "    .dataframe tbody tr th:only-of-type {\n",
       "        vertical-align: middle;\n",
       "    }\n",
       "\n",
       "    .dataframe tbody tr th {\n",
       "        vertical-align: top;\n",
       "    }\n",
       "\n",
       "    .dataframe thead th {\n",
       "        text-align: right;\n",
       "    }\n",
       "</style>\n",
       "<table border=\"1\" class=\"dataframe\">\n",
       "  <thead>\n",
       "    <tr style=\"text-align: right;\">\n",
       "      <th></th>\n",
       "      <th>LotArea</th>\n",
       "      <th>Neighborhood</th>\n",
       "      <th>BedroomAbvGr</th>\n",
       "      <th>KitchenAbvGr</th>\n",
       "      <th>SalePrice</th>\n",
       "      <th>Bathroom</th>\n",
       "    </tr>\n",
       "  </thead>\n",
       "  <tbody>\n",
       "    <tr>\n",
       "      <th>0</th>\n",
       "      <td>3010</td>\n",
       "      <td>Blmngtn</td>\n",
       "      <td>2</td>\n",
       "      <td>1</td>\n",
       "      <td>167240</td>\n",
       "      <td>2</td>\n",
       "    </tr>\n",
       "    <tr>\n",
       "      <th>1</th>\n",
       "      <td>3182</td>\n",
       "      <td>Blmngtn</td>\n",
       "      <td>2</td>\n",
       "      <td>1</td>\n",
       "      <td>192500</td>\n",
       "      <td>2</td>\n",
       "    </tr>\n",
       "    <tr>\n",
       "      <th>2</th>\n",
       "      <td>3182</td>\n",
       "      <td>Blmngtn</td>\n",
       "      <td>2</td>\n",
       "      <td>1</td>\n",
       "      <td>192000</td>\n",
       "      <td>2</td>\n",
       "    </tr>\n",
       "    <tr>\n",
       "      <th>3</th>\n",
       "      <td>3072</td>\n",
       "      <td>Blmngtn</td>\n",
       "      <td>2</td>\n",
       "      <td>1</td>\n",
       "      <td>178740</td>\n",
       "      <td>2</td>\n",
       "    </tr>\n",
       "    <tr>\n",
       "      <th>4</th>\n",
       "      <td>3922</td>\n",
       "      <td>Blmngtn</td>\n",
       "      <td>2</td>\n",
       "      <td>1</td>\n",
       "      <td>194201</td>\n",
       "      <td>2</td>\n",
       "    </tr>\n",
       "  </tbody>\n",
       "</table>\n",
       "</div>"
      ],
      "text/plain": [
       "   LotArea Neighborhood  BedroomAbvGr  KitchenAbvGr  SalePrice  Bathroom\n",
       "0     3010      Blmngtn             2             1     167240         2\n",
       "1     3182      Blmngtn             2             1     192500         2\n",
       "2     3182      Blmngtn             2             1     192000         2\n",
       "3     3072      Blmngtn             2             1     178740         2\n",
       "4     3922      Blmngtn             2             1     194201         2"
      ]
     },
     "execution_count": 78,
     "metadata": {},
     "output_type": "execute_result"
    }
   ],
   "source": [
    "df_a = df5.copy()\n",
    "df_a = df_a.drop(['TotalBsmtSF', 'AreaAboveGr', 'PriceSqFt'], axis='columns')\n",
    "df_a.head()"
   ]
  },
  {
   "attachments": {},
   "cell_type": "markdown",
   "metadata": {},
   "source": [
    "## 4. Building Models"
   ]
  },
  {
   "cell_type": "code",
   "execution_count": 33,
   "metadata": {},
   "outputs": [
    {
     "data": {
      "text/html": [
       "<div>\n",
       "<style scoped>\n",
       "    .dataframe tbody tr th:only-of-type {\n",
       "        vertical-align: middle;\n",
       "    }\n",
       "\n",
       "    .dataframe tbody tr th {\n",
       "        vertical-align: top;\n",
       "    }\n",
       "\n",
       "    .dataframe thead th {\n",
       "        text-align: right;\n",
       "    }\n",
       "</style>\n",
       "<table border=\"1\" class=\"dataframe\">\n",
       "  <thead>\n",
       "    <tr style=\"text-align: right;\">\n",
       "      <th></th>\n",
       "      <th>Blmngtn</th>\n",
       "      <th>Blueste</th>\n",
       "      <th>BrDale</th>\n",
       "      <th>BrkSide</th>\n",
       "      <th>ClearCr</th>\n",
       "      <th>CollgCr</th>\n",
       "      <th>Crawfor</th>\n",
       "      <th>Edwards</th>\n",
       "      <th>Gilbert</th>\n",
       "      <th>IDOTRR</th>\n",
       "      <th>...</th>\n",
       "      <th>NoRidge</th>\n",
       "      <th>NridgHt</th>\n",
       "      <th>OldTown</th>\n",
       "      <th>SWISU</th>\n",
       "      <th>Sawyer</th>\n",
       "      <th>SawyerW</th>\n",
       "      <th>Somerst</th>\n",
       "      <th>StoneBr</th>\n",
       "      <th>Timber</th>\n",
       "      <th>Veenker</th>\n",
       "    </tr>\n",
       "  </thead>\n",
       "  <tbody>\n",
       "    <tr>\n",
       "      <th>0</th>\n",
       "      <td>1</td>\n",
       "      <td>0</td>\n",
       "      <td>0</td>\n",
       "      <td>0</td>\n",
       "      <td>0</td>\n",
       "      <td>0</td>\n",
       "      <td>0</td>\n",
       "      <td>0</td>\n",
       "      <td>0</td>\n",
       "      <td>0</td>\n",
       "      <td>...</td>\n",
       "      <td>0</td>\n",
       "      <td>0</td>\n",
       "      <td>0</td>\n",
       "      <td>0</td>\n",
       "      <td>0</td>\n",
       "      <td>0</td>\n",
       "      <td>0</td>\n",
       "      <td>0</td>\n",
       "      <td>0</td>\n",
       "      <td>0</td>\n",
       "    </tr>\n",
       "    <tr>\n",
       "      <th>1</th>\n",
       "      <td>1</td>\n",
       "      <td>0</td>\n",
       "      <td>0</td>\n",
       "      <td>0</td>\n",
       "      <td>0</td>\n",
       "      <td>0</td>\n",
       "      <td>0</td>\n",
       "      <td>0</td>\n",
       "      <td>0</td>\n",
       "      <td>0</td>\n",
       "      <td>...</td>\n",
       "      <td>0</td>\n",
       "      <td>0</td>\n",
       "      <td>0</td>\n",
       "      <td>0</td>\n",
       "      <td>0</td>\n",
       "      <td>0</td>\n",
       "      <td>0</td>\n",
       "      <td>0</td>\n",
       "      <td>0</td>\n",
       "      <td>0</td>\n",
       "    </tr>\n",
       "    <tr>\n",
       "      <th>2</th>\n",
       "      <td>1</td>\n",
       "      <td>0</td>\n",
       "      <td>0</td>\n",
       "      <td>0</td>\n",
       "      <td>0</td>\n",
       "      <td>0</td>\n",
       "      <td>0</td>\n",
       "      <td>0</td>\n",
       "      <td>0</td>\n",
       "      <td>0</td>\n",
       "      <td>...</td>\n",
       "      <td>0</td>\n",
       "      <td>0</td>\n",
       "      <td>0</td>\n",
       "      <td>0</td>\n",
       "      <td>0</td>\n",
       "      <td>0</td>\n",
       "      <td>0</td>\n",
       "      <td>0</td>\n",
       "      <td>0</td>\n",
       "      <td>0</td>\n",
       "    </tr>\n",
       "  </tbody>\n",
       "</table>\n",
       "<p>3 rows × 25 columns</p>\n",
       "</div>"
      ],
      "text/plain": [
       "   Blmngtn  Blueste  BrDale  BrkSide  ClearCr  CollgCr  Crawfor  Edwards  \\\n",
       "0        1        0       0        0        0        0        0        0   \n",
       "1        1        0       0        0        0        0        0        0   \n",
       "2        1        0       0        0        0        0        0        0   \n",
       "\n",
       "   Gilbert  IDOTRR  ...  NoRidge  NridgHt  OldTown  SWISU  Sawyer  SawyerW  \\\n",
       "0        0       0  ...        0        0        0      0       0        0   \n",
       "1        0       0  ...        0        0        0      0       0        0   \n",
       "2        0       0  ...        0        0        0      0       0        0   \n",
       "\n",
       "   Somerst  StoneBr  Timber  Veenker  \n",
       "0        0        0       0        0  \n",
       "1        0        0       0        0  \n",
       "2        0        0       0        0  \n",
       "\n",
       "[3 rows x 25 columns]"
      ]
     },
     "execution_count": 33,
     "metadata": {},
     "output_type": "execute_result"
    }
   ],
   "source": [
    "dummies_nghbd = pd.get_dummies(df_a.Neighborhood)\n",
    "dummies_nghbd.head(3)"
   ]
  },
  {
   "cell_type": "code",
   "execution_count": 34,
   "metadata": {},
   "outputs": [
    {
     "data": {
      "text/html": [
       "<div>\n",
       "<style scoped>\n",
       "    .dataframe tbody tr th:only-of-type {\n",
       "        vertical-align: middle;\n",
       "    }\n",
       "\n",
       "    .dataframe tbody tr th {\n",
       "        vertical-align: top;\n",
       "    }\n",
       "\n",
       "    .dataframe thead th {\n",
       "        text-align: right;\n",
       "    }\n",
       "</style>\n",
       "<table border=\"1\" class=\"dataframe\">\n",
       "  <thead>\n",
       "    <tr style=\"text-align: right;\">\n",
       "      <th></th>\n",
       "      <th>LotArea</th>\n",
       "      <th>Neighborhood</th>\n",
       "      <th>BedroomAbvGr</th>\n",
       "      <th>KitchenAbvGr</th>\n",
       "      <th>SalePrice</th>\n",
       "      <th>Bathroom</th>\n",
       "      <th>Blmngtn</th>\n",
       "      <th>Blueste</th>\n",
       "      <th>BrDale</th>\n",
       "      <th>BrkSide</th>\n",
       "      <th>...</th>\n",
       "      <th>NoRidge</th>\n",
       "      <th>NridgHt</th>\n",
       "      <th>OldTown</th>\n",
       "      <th>SWISU</th>\n",
       "      <th>Sawyer</th>\n",
       "      <th>SawyerW</th>\n",
       "      <th>Somerst</th>\n",
       "      <th>StoneBr</th>\n",
       "      <th>Timber</th>\n",
       "      <th>Veenker</th>\n",
       "    </tr>\n",
       "  </thead>\n",
       "  <tbody>\n",
       "    <tr>\n",
       "      <th>0</th>\n",
       "      <td>3010</td>\n",
       "      <td>Blmngtn</td>\n",
       "      <td>2</td>\n",
       "      <td>1</td>\n",
       "      <td>167240</td>\n",
       "      <td>2</td>\n",
       "      <td>1</td>\n",
       "      <td>0</td>\n",
       "      <td>0</td>\n",
       "      <td>0</td>\n",
       "      <td>...</td>\n",
       "      <td>0</td>\n",
       "      <td>0</td>\n",
       "      <td>0</td>\n",
       "      <td>0</td>\n",
       "      <td>0</td>\n",
       "      <td>0</td>\n",
       "      <td>0</td>\n",
       "      <td>0</td>\n",
       "      <td>0</td>\n",
       "      <td>0</td>\n",
       "    </tr>\n",
       "    <tr>\n",
       "      <th>1</th>\n",
       "      <td>3182</td>\n",
       "      <td>Blmngtn</td>\n",
       "      <td>2</td>\n",
       "      <td>1</td>\n",
       "      <td>192500</td>\n",
       "      <td>2</td>\n",
       "      <td>1</td>\n",
       "      <td>0</td>\n",
       "      <td>0</td>\n",
       "      <td>0</td>\n",
       "      <td>...</td>\n",
       "      <td>0</td>\n",
       "      <td>0</td>\n",
       "      <td>0</td>\n",
       "      <td>0</td>\n",
       "      <td>0</td>\n",
       "      <td>0</td>\n",
       "      <td>0</td>\n",
       "      <td>0</td>\n",
       "      <td>0</td>\n",
       "      <td>0</td>\n",
       "    </tr>\n",
       "    <tr>\n",
       "      <th>2</th>\n",
       "      <td>3182</td>\n",
       "      <td>Blmngtn</td>\n",
       "      <td>2</td>\n",
       "      <td>1</td>\n",
       "      <td>192000</td>\n",
       "      <td>2</td>\n",
       "      <td>1</td>\n",
       "      <td>0</td>\n",
       "      <td>0</td>\n",
       "      <td>0</td>\n",
       "      <td>...</td>\n",
       "      <td>0</td>\n",
       "      <td>0</td>\n",
       "      <td>0</td>\n",
       "      <td>0</td>\n",
       "      <td>0</td>\n",
       "      <td>0</td>\n",
       "      <td>0</td>\n",
       "      <td>0</td>\n",
       "      <td>0</td>\n",
       "      <td>0</td>\n",
       "    </tr>\n",
       "  </tbody>\n",
       "</table>\n",
       "<p>3 rows × 31 columns</p>\n",
       "</div>"
      ],
      "text/plain": [
       "   LotArea Neighborhood  BedroomAbvGr  KitchenAbvGr  SalePrice  Bathroom  \\\n",
       "0     3010      Blmngtn             2             1     167240         2   \n",
       "1     3182      Blmngtn             2             1     192500         2   \n",
       "2     3182      Blmngtn             2             1     192000         2   \n",
       "\n",
       "   Blmngtn  Blueste  BrDale  BrkSide  ...  NoRidge  NridgHt  OldTown  SWISU  \\\n",
       "0        1        0       0        0  ...        0        0        0      0   \n",
       "1        1        0       0        0  ...        0        0        0      0   \n",
       "2        1        0       0        0  ...        0        0        0      0   \n",
       "\n",
       "   Sawyer  SawyerW  Somerst  StoneBr  Timber  Veenker  \n",
       "0       0        0        0        0       0        0  \n",
       "1       0        0        0        0       0        0  \n",
       "2       0        0        0        0       0        0  \n",
       "\n",
       "[3 rows x 31 columns]"
      ]
     },
     "execution_count": 34,
     "metadata": {},
     "output_type": "execute_result"
    }
   ],
   "source": [
    "df_n = pd.concat([df_a,dummies_nghbd],axis='columns')\n",
    "df_n.head(3)"
   ]
  },
  {
   "cell_type": "code",
   "execution_count": 37,
   "metadata": {},
   "outputs": [
    {
     "data": {
      "text/html": [
       "<div>\n",
       "<style scoped>\n",
       "    .dataframe tbody tr th:only-of-type {\n",
       "        vertical-align: middle;\n",
       "    }\n",
       "\n",
       "    .dataframe tbody tr th {\n",
       "        vertical-align: top;\n",
       "    }\n",
       "\n",
       "    .dataframe thead th {\n",
       "        text-align: right;\n",
       "    }\n",
       "</style>\n",
       "<table border=\"1\" class=\"dataframe\">\n",
       "  <thead>\n",
       "    <tr style=\"text-align: right;\">\n",
       "      <th></th>\n",
       "      <th>LotArea</th>\n",
       "      <th>BedroomAbvGr</th>\n",
       "      <th>KitchenAbvGr</th>\n",
       "      <th>SalePrice</th>\n",
       "      <th>Bathroom</th>\n",
       "      <th>Blmngtn</th>\n",
       "      <th>Blueste</th>\n",
       "      <th>BrDale</th>\n",
       "      <th>BrkSide</th>\n",
       "      <th>ClearCr</th>\n",
       "      <th>...</th>\n",
       "      <th>NoRidge</th>\n",
       "      <th>NridgHt</th>\n",
       "      <th>OldTown</th>\n",
       "      <th>SWISU</th>\n",
       "      <th>Sawyer</th>\n",
       "      <th>SawyerW</th>\n",
       "      <th>Somerst</th>\n",
       "      <th>StoneBr</th>\n",
       "      <th>Timber</th>\n",
       "      <th>Veenker</th>\n",
       "    </tr>\n",
       "  </thead>\n",
       "  <tbody>\n",
       "    <tr>\n",
       "      <th>0</th>\n",
       "      <td>3010</td>\n",
       "      <td>2</td>\n",
       "      <td>1</td>\n",
       "      <td>167240</td>\n",
       "      <td>2</td>\n",
       "      <td>1</td>\n",
       "      <td>0</td>\n",
       "      <td>0</td>\n",
       "      <td>0</td>\n",
       "      <td>0</td>\n",
       "      <td>...</td>\n",
       "      <td>0</td>\n",
       "      <td>0</td>\n",
       "      <td>0</td>\n",
       "      <td>0</td>\n",
       "      <td>0</td>\n",
       "      <td>0</td>\n",
       "      <td>0</td>\n",
       "      <td>0</td>\n",
       "      <td>0</td>\n",
       "      <td>0</td>\n",
       "    </tr>\n",
       "    <tr>\n",
       "      <th>1</th>\n",
       "      <td>3182</td>\n",
       "      <td>2</td>\n",
       "      <td>1</td>\n",
       "      <td>192500</td>\n",
       "      <td>2</td>\n",
       "      <td>1</td>\n",
       "      <td>0</td>\n",
       "      <td>0</td>\n",
       "      <td>0</td>\n",
       "      <td>0</td>\n",
       "      <td>...</td>\n",
       "      <td>0</td>\n",
       "      <td>0</td>\n",
       "      <td>0</td>\n",
       "      <td>0</td>\n",
       "      <td>0</td>\n",
       "      <td>0</td>\n",
       "      <td>0</td>\n",
       "      <td>0</td>\n",
       "      <td>0</td>\n",
       "      <td>0</td>\n",
       "    </tr>\n",
       "    <tr>\n",
       "      <th>2</th>\n",
       "      <td>3182</td>\n",
       "      <td>2</td>\n",
       "      <td>1</td>\n",
       "      <td>192000</td>\n",
       "      <td>2</td>\n",
       "      <td>1</td>\n",
       "      <td>0</td>\n",
       "      <td>0</td>\n",
       "      <td>0</td>\n",
       "      <td>0</td>\n",
       "      <td>...</td>\n",
       "      <td>0</td>\n",
       "      <td>0</td>\n",
       "      <td>0</td>\n",
       "      <td>0</td>\n",
       "      <td>0</td>\n",
       "      <td>0</td>\n",
       "      <td>0</td>\n",
       "      <td>0</td>\n",
       "      <td>0</td>\n",
       "      <td>0</td>\n",
       "    </tr>\n",
       "  </tbody>\n",
       "</table>\n",
       "<p>3 rows × 30 columns</p>\n",
       "</div>"
      ],
      "text/plain": [
       "   LotArea  BedroomAbvGr  KitchenAbvGr  SalePrice  Bathroom  Blmngtn  Blueste  \\\n",
       "0     3010             2             1     167240         2        1        0   \n",
       "1     3182             2             1     192500         2        1        0   \n",
       "2     3182             2             1     192000         2        1        0   \n",
       "\n",
       "   BrDale  BrkSide  ClearCr  ...  NoRidge  NridgHt  OldTown  SWISU  Sawyer  \\\n",
       "0       0        0        0  ...        0        0        0      0       0   \n",
       "1       0        0        0  ...        0        0        0      0       0   \n",
       "2       0        0        0  ...        0        0        0      0       0   \n",
       "\n",
       "   SawyerW  Somerst  StoneBr  Timber  Veenker  \n",
       "0        0        0        0       0        0  \n",
       "1        0        0        0       0        0  \n",
       "2        0        0        0       0        0  \n",
       "\n",
       "[3 rows x 30 columns]"
      ]
     },
     "execution_count": 37,
     "metadata": {},
     "output_type": "execute_result"
    }
   ],
   "source": [
    "df_n2 = df_n.drop('Neighborhood', axis='columns')\n",
    "df_n2.head(3)"
   ]
  },
  {
   "cell_type": "code",
   "execution_count": 38,
   "metadata": {},
   "outputs": [
    {
     "data": {
      "text/plain": [
       "(1095, 30)"
      ]
     },
     "execution_count": 38,
     "metadata": {},
     "output_type": "execute_result"
    }
   ],
   "source": [
    "df_n2.shape"
   ]
  },
  {
   "cell_type": "code",
   "execution_count": 39,
   "metadata": {},
   "outputs": [
    {
     "data": {
      "text/html": [
       "<div>\n",
       "<style scoped>\n",
       "    .dataframe tbody tr th:only-of-type {\n",
       "        vertical-align: middle;\n",
       "    }\n",
       "\n",
       "    .dataframe tbody tr th {\n",
       "        vertical-align: top;\n",
       "    }\n",
       "\n",
       "    .dataframe thead th {\n",
       "        text-align: right;\n",
       "    }\n",
       "</style>\n",
       "<table border=\"1\" class=\"dataframe\">\n",
       "  <thead>\n",
       "    <tr style=\"text-align: right;\">\n",
       "      <th></th>\n",
       "      <th>LotArea</th>\n",
       "      <th>BedroomAbvGr</th>\n",
       "      <th>KitchenAbvGr</th>\n",
       "      <th>Bathroom</th>\n",
       "      <th>Blmngtn</th>\n",
       "      <th>Blueste</th>\n",
       "      <th>BrDale</th>\n",
       "      <th>BrkSide</th>\n",
       "      <th>ClearCr</th>\n",
       "      <th>CollgCr</th>\n",
       "      <th>...</th>\n",
       "      <th>NoRidge</th>\n",
       "      <th>NridgHt</th>\n",
       "      <th>OldTown</th>\n",
       "      <th>SWISU</th>\n",
       "      <th>Sawyer</th>\n",
       "      <th>SawyerW</th>\n",
       "      <th>Somerst</th>\n",
       "      <th>StoneBr</th>\n",
       "      <th>Timber</th>\n",
       "      <th>Veenker</th>\n",
       "    </tr>\n",
       "  </thead>\n",
       "  <tbody>\n",
       "    <tr>\n",
       "      <th>0</th>\n",
       "      <td>3010</td>\n",
       "      <td>2</td>\n",
       "      <td>1</td>\n",
       "      <td>2</td>\n",
       "      <td>1</td>\n",
       "      <td>0</td>\n",
       "      <td>0</td>\n",
       "      <td>0</td>\n",
       "      <td>0</td>\n",
       "      <td>0</td>\n",
       "      <td>...</td>\n",
       "      <td>0</td>\n",
       "      <td>0</td>\n",
       "      <td>0</td>\n",
       "      <td>0</td>\n",
       "      <td>0</td>\n",
       "      <td>0</td>\n",
       "      <td>0</td>\n",
       "      <td>0</td>\n",
       "      <td>0</td>\n",
       "      <td>0</td>\n",
       "    </tr>\n",
       "    <tr>\n",
       "      <th>1</th>\n",
       "      <td>3182</td>\n",
       "      <td>2</td>\n",
       "      <td>1</td>\n",
       "      <td>2</td>\n",
       "      <td>1</td>\n",
       "      <td>0</td>\n",
       "      <td>0</td>\n",
       "      <td>0</td>\n",
       "      <td>0</td>\n",
       "      <td>0</td>\n",
       "      <td>...</td>\n",
       "      <td>0</td>\n",
       "      <td>0</td>\n",
       "      <td>0</td>\n",
       "      <td>0</td>\n",
       "      <td>0</td>\n",
       "      <td>0</td>\n",
       "      <td>0</td>\n",
       "      <td>0</td>\n",
       "      <td>0</td>\n",
       "      <td>0</td>\n",
       "    </tr>\n",
       "    <tr>\n",
       "      <th>2</th>\n",
       "      <td>3182</td>\n",
       "      <td>2</td>\n",
       "      <td>1</td>\n",
       "      <td>2</td>\n",
       "      <td>1</td>\n",
       "      <td>0</td>\n",
       "      <td>0</td>\n",
       "      <td>0</td>\n",
       "      <td>0</td>\n",
       "      <td>0</td>\n",
       "      <td>...</td>\n",
       "      <td>0</td>\n",
       "      <td>0</td>\n",
       "      <td>0</td>\n",
       "      <td>0</td>\n",
       "      <td>0</td>\n",
       "      <td>0</td>\n",
       "      <td>0</td>\n",
       "      <td>0</td>\n",
       "      <td>0</td>\n",
       "      <td>0</td>\n",
       "    </tr>\n",
       "    <tr>\n",
       "      <th>3</th>\n",
       "      <td>3072</td>\n",
       "      <td>2</td>\n",
       "      <td>1</td>\n",
       "      <td>2</td>\n",
       "      <td>1</td>\n",
       "      <td>0</td>\n",
       "      <td>0</td>\n",
       "      <td>0</td>\n",
       "      <td>0</td>\n",
       "      <td>0</td>\n",
       "      <td>...</td>\n",
       "      <td>0</td>\n",
       "      <td>0</td>\n",
       "      <td>0</td>\n",
       "      <td>0</td>\n",
       "      <td>0</td>\n",
       "      <td>0</td>\n",
       "      <td>0</td>\n",
       "      <td>0</td>\n",
       "      <td>0</td>\n",
       "      <td>0</td>\n",
       "    </tr>\n",
       "    <tr>\n",
       "      <th>4</th>\n",
       "      <td>3922</td>\n",
       "      <td>2</td>\n",
       "      <td>1</td>\n",
       "      <td>2</td>\n",
       "      <td>1</td>\n",
       "      <td>0</td>\n",
       "      <td>0</td>\n",
       "      <td>0</td>\n",
       "      <td>0</td>\n",
       "      <td>0</td>\n",
       "      <td>...</td>\n",
       "      <td>0</td>\n",
       "      <td>0</td>\n",
       "      <td>0</td>\n",
       "      <td>0</td>\n",
       "      <td>0</td>\n",
       "      <td>0</td>\n",
       "      <td>0</td>\n",
       "      <td>0</td>\n",
       "      <td>0</td>\n",
       "      <td>0</td>\n",
       "    </tr>\n",
       "  </tbody>\n",
       "</table>\n",
       "<p>5 rows × 29 columns</p>\n",
       "</div>"
      ],
      "text/plain": [
       "   LotArea  BedroomAbvGr  KitchenAbvGr  Bathroom  Blmngtn  Blueste  BrDale  \\\n",
       "0     3010             2             1         2        1        0       0   \n",
       "1     3182             2             1         2        1        0       0   \n",
       "2     3182             2             1         2        1        0       0   \n",
       "3     3072             2             1         2        1        0       0   \n",
       "4     3922             2             1         2        1        0       0   \n",
       "\n",
       "   BrkSide  ClearCr  CollgCr  ...  NoRidge  NridgHt  OldTown  SWISU  Sawyer  \\\n",
       "0        0        0        0  ...        0        0        0      0       0   \n",
       "1        0        0        0  ...        0        0        0      0       0   \n",
       "2        0        0        0  ...        0        0        0      0       0   \n",
       "3        0        0        0  ...        0        0        0      0       0   \n",
       "4        0        0        0  ...        0        0        0      0       0   \n",
       "\n",
       "   SawyerW  Somerst  StoneBr  Timber  Veenker  \n",
       "0        0        0        0       0        0  \n",
       "1        0        0        0       0        0  \n",
       "2        0        0        0       0        0  \n",
       "3        0        0        0       0        0  \n",
       "4        0        0        0       0        0  \n",
       "\n",
       "[5 rows x 29 columns]"
      ]
     },
     "execution_count": 39,
     "metadata": {},
     "output_type": "execute_result"
    }
   ],
   "source": [
    "X = df_n2.drop('SalePrice', axis='columns')\n",
    "X.head()"
   ]
  },
  {
   "cell_type": "code",
   "execution_count": 42,
   "metadata": {},
   "outputs": [
    {
     "data": {
      "text/plain": [
       "0    167240\n",
       "1    192500\n",
       "2    192000\n",
       "3    178740\n",
       "4    194201\n",
       "Name: SalePrice, dtype: int64"
      ]
     },
     "execution_count": 42,
     "metadata": {},
     "output_type": "execute_result"
    }
   ],
   "source": [
    "y = df_n2.SalePrice\n",
    "y.head()"
   ]
  },
  {
   "attachments": {},
   "cell_type": "markdown",
   "metadata": {},
   "source": [
    "Creating the train and test datasets."
   ]
  },
  {
   "cell_type": "code",
   "execution_count": 43,
   "metadata": {},
   "outputs": [],
   "source": [
    "from sklearn.model_selection import train_test_split\n",
    "X_train, X_test, y_train, y_test = train_test_split(X, y, test_size=0.3, random_state=42)"
   ]
  },
  {
   "attachments": {},
   "cell_type": "markdown",
   "metadata": {},
   "source": [
    "Getting the score of LinearRegression()."
   ]
  },
  {
   "cell_type": "code",
   "execution_count": 44,
   "metadata": {},
   "outputs": [
    {
     "data": {
      "text/plain": [
       "0.7791609727418985"
      ]
     },
     "execution_count": 44,
     "metadata": {},
     "output_type": "execute_result"
    }
   ],
   "source": [
    "from sklearn.linear_model import LinearRegression\n",
    "lr_clf = LinearRegression()\n",
    "lr_clf.fit(X_train, y_train)\n",
    "lr_clf.score(X_test, y_test)"
   ]
  },
  {
   "cell_type": "code",
   "execution_count": 45,
   "metadata": {},
   "outputs": [
    {
     "data": {
      "text/plain": [
       "array([0.64656494, 0.73324852, 0.74257073, 0.70427591, 0.71373689])"
      ]
     },
     "execution_count": 45,
     "metadata": {},
     "output_type": "execute_result"
    }
   ],
   "source": [
    "from sklearn.model_selection import ShuffleSplit\n",
    "from sklearn.model_selection import cross_val_score\n",
    "\n",
    "cv = ShuffleSplit(n_splits=5, test_size=0.2, random_state=0)\n",
    "\n",
    "cross_val_score(LinearRegression(), X, y, cv=cv)"
   ]
  },
  {
   "attachments": {},
   "cell_type": "markdown",
   "metadata": {},
   "source": [
    "Let's compare the scores of other models."
   ]
  },
  {
   "cell_type": "code",
   "execution_count": 53,
   "metadata": {},
   "outputs": [
    {
     "name": "stderr",
     "output_type": "stream",
     "text": [
      "/Library/Frameworks/Python.framework/Versions/3.11/lib/python3.11/site-packages/sklearn/linear_model/_coordinate_descent.py:631: ConvergenceWarning: Objective did not converge. You might want to increase the number of iterations, check the scale of the features or consider increasing regularisation. Duality gap: 5.158e+11, tolerance: 4.087e+08\n",
      "  model = cd_fast.enet_coordinate_descent(\n",
      "/Library/Frameworks/Python.framework/Versions/3.11/lib/python3.11/site-packages/sklearn/linear_model/_coordinate_descent.py:631: ConvergenceWarning: Objective did not converge. You might want to increase the number of iterations, check the scale of the features or consider increasing regularisation. Duality gap: 5.549e+11, tolerance: 4.286e+08\n",
      "  model = cd_fast.enet_coordinate_descent(\n",
      "/Library/Frameworks/Python.framework/Versions/3.11/lib/python3.11/site-packages/sklearn/linear_model/_coordinate_descent.py:631: ConvergenceWarning: Objective did not converge. You might want to increase the number of iterations, check the scale of the features or consider increasing regularisation. Duality gap: 5.400e+11, tolerance: 4.263e+08\n",
      "  model = cd_fast.enet_coordinate_descent(\n",
      "/Library/Frameworks/Python.framework/Versions/3.11/lib/python3.11/site-packages/sklearn/linear_model/_coordinate_descent.py:631: ConvergenceWarning: Objective did not converge. You might want to increase the number of iterations, check the scale of the features or consider increasing regularisation. Duality gap: 5.275e+11, tolerance: 4.277e+08\n",
      "  model = cd_fast.enet_coordinate_descent(\n",
      "/Library/Frameworks/Python.framework/Versions/3.11/lib/python3.11/site-packages/sklearn/linear_model/_coordinate_descent.py:631: ConvergenceWarning: Objective did not converge. You might want to increase the number of iterations, check the scale of the features or consider increasing regularisation. Duality gap: 5.046e+11, tolerance: 3.933e+08\n",
      "  model = cd_fast.enet_coordinate_descent(\n",
      "/Library/Frameworks/Python.framework/Versions/3.11/lib/python3.11/site-packages/sklearn/linear_model/_coordinate_descent.py:631: ConvergenceWarning: Objective did not converge. You might want to increase the number of iterations, check the scale of the features or consider increasing regularisation. Duality gap: 5.137e+11, tolerance: 4.087e+08\n",
      "  model = cd_fast.enet_coordinate_descent(\n",
      "/Library/Frameworks/Python.framework/Versions/3.11/lib/python3.11/site-packages/sklearn/linear_model/_coordinate_descent.py:631: ConvergenceWarning: Objective did not converge. You might want to increase the number of iterations, check the scale of the features or consider increasing regularisation. Duality gap: 1.089e+11, tolerance: 4.286e+08\n",
      "  model = cd_fast.enet_coordinate_descent(\n",
      "/Library/Frameworks/Python.framework/Versions/3.11/lib/python3.11/site-packages/sklearn/linear_model/_coordinate_descent.py:631: ConvergenceWarning: Objective did not converge. You might want to increase the number of iterations, check the scale of the features or consider increasing regularisation. Duality gap: 9.166e+10, tolerance: 4.263e+08\n",
      "  model = cd_fast.enet_coordinate_descent(\n",
      "/Library/Frameworks/Python.framework/Versions/3.11/lib/python3.11/site-packages/sklearn/linear_model/_coordinate_descent.py:631: ConvergenceWarning: Objective did not converge. You might want to increase the number of iterations, check the scale of the features or consider increasing regularisation. Duality gap: 9.477e+10, tolerance: 4.277e+08\n",
      "  model = cd_fast.enet_coordinate_descent(\n",
      "/Library/Frameworks/Python.framework/Versions/3.11/lib/python3.11/site-packages/sklearn/linear_model/_coordinate_descent.py:631: ConvergenceWarning: Objective did not converge. You might want to increase the number of iterations, check the scale of the features or consider increasing regularisation. Duality gap: 1.413e+11, tolerance: 3.933e+08\n",
      "  model = cd_fast.enet_coordinate_descent(\n",
      "/Library/Frameworks/Python.framework/Versions/3.11/lib/python3.11/site-packages/sklearn/linear_model/_coordinate_descent.py:631: ConvergenceWarning: Objective did not converge. You might want to increase the number of iterations, check the scale of the features or consider increasing regularisation. Duality gap: 5.156e+11, tolerance: 4.087e+08\n",
      "  model = cd_fast.enet_coordinate_descent(\n",
      "/Library/Frameworks/Python.framework/Versions/3.11/lib/python3.11/site-packages/sklearn/linear_model/_coordinate_descent.py:631: ConvergenceWarning: Objective did not converge. You might want to increase the number of iterations, check the scale of the features or consider increasing regularisation. Duality gap: 5.539e+11, tolerance: 4.286e+08\n",
      "  model = cd_fast.enet_coordinate_descent(\n",
      "/Library/Frameworks/Python.framework/Versions/3.11/lib/python3.11/site-packages/sklearn/linear_model/_coordinate_descent.py:631: ConvergenceWarning: Objective did not converge. You might want to increase the number of iterations, check the scale of the features or consider increasing regularisation. Duality gap: 5.461e+11, tolerance: 4.263e+08\n",
      "  model = cd_fast.enet_coordinate_descent(\n",
      "/Library/Frameworks/Python.framework/Versions/3.11/lib/python3.11/site-packages/sklearn/linear_model/_coordinate_descent.py:631: ConvergenceWarning: Objective did not converge. You might want to increase the number of iterations, check the scale of the features or consider increasing regularisation. Duality gap: 5.288e+11, tolerance: 4.277e+08\n",
      "  model = cd_fast.enet_coordinate_descent(\n",
      "/Library/Frameworks/Python.framework/Versions/3.11/lib/python3.11/site-packages/sklearn/linear_model/_coordinate_descent.py:631: ConvergenceWarning: Objective did not converge. You might want to increase the number of iterations, check the scale of the features or consider increasing regularisation. Duality gap: 5.039e+11, tolerance: 3.933e+08\n",
      "  model = cd_fast.enet_coordinate_descent(\n",
      "/Library/Frameworks/Python.framework/Versions/3.11/lib/python3.11/site-packages/sklearn/linear_model/_coordinate_descent.py:631: ConvergenceWarning: Objective did not converge. You might want to increase the number of iterations, check the scale of the features or consider increasing regularisation. Duality gap: 1.256e+10, tolerance: 4.087e+08\n",
      "  model = cd_fast.enet_coordinate_descent(\n",
      "/Library/Frameworks/Python.framework/Versions/3.11/lib/python3.11/site-packages/sklearn/linear_model/_coordinate_descent.py:631: ConvergenceWarning: Objective did not converge. You might want to increase the number of iterations, check the scale of the features or consider increasing regularisation. Duality gap: 5.817e+10, tolerance: 4.286e+08\n",
      "  model = cd_fast.enet_coordinate_descent(\n",
      "/Library/Frameworks/Python.framework/Versions/3.11/lib/python3.11/site-packages/sklearn/linear_model/_coordinate_descent.py:631: ConvergenceWarning: Objective did not converge. You might want to increase the number of iterations, check the scale of the features or consider increasing regularisation. Duality gap: 3.648e+10, tolerance: 4.263e+08\n",
      "  model = cd_fast.enet_coordinate_descent(\n",
      "/Library/Frameworks/Python.framework/Versions/3.11/lib/python3.11/site-packages/sklearn/linear_model/_coordinate_descent.py:631: ConvergenceWarning: Objective did not converge. You might want to increase the number of iterations, check the scale of the features or consider increasing regularisation. Duality gap: 4.970e+10, tolerance: 4.277e+08\n",
      "  model = cd_fast.enet_coordinate_descent(\n",
      "/Library/Frameworks/Python.framework/Versions/3.11/lib/python3.11/site-packages/sklearn/linear_model/_coordinate_descent.py:631: ConvergenceWarning: Objective did not converge. You might want to increase the number of iterations, check the scale of the features or consider increasing regularisation. Duality gap: 9.803e+09, tolerance: 3.933e+08\n",
      "  model = cd_fast.enet_coordinate_descent(\n",
      "/Library/Frameworks/Python.framework/Versions/3.11/lib/python3.11/site-packages/sklearn/linear_model/_coordinate_descent.py:631: ConvergenceWarning: Objective did not converge. You might want to increase the number of iterations, check the scale of the features or consider increasing regularisation. Duality gap: 7.880e+11, tolerance: 6.087e+08\n",
      "  model = cd_fast.enet_coordinate_descent(\n",
      "/Library/Frameworks/Python.framework/Versions/3.11/lib/python3.11/site-packages/sklearn/model_selection/_validation.py:378: FitFailedWarning: \n",
      "10 fits failed out of a total of 20.\n",
      "The score on these train-test partitions for these parameters will be set to nan.\n",
      "If these failures are not expected, you can try to debug them by setting error_score='raise'.\n",
      "\n",
      "Below are more details about the failures:\n",
      "--------------------------------------------------------------------------------\n",
      "10 fits failed with the following error:\n",
      "Traceback (most recent call last):\n",
      "  File \"/Library/Frameworks/Python.framework/Versions/3.11/lib/python3.11/site-packages/sklearn/model_selection/_validation.py\", line 686, in _fit_and_score\n",
      "    estimator.fit(X_train, y_train, **fit_params)\n",
      "  File \"/Library/Frameworks/Python.framework/Versions/3.11/lib/python3.11/site-packages/sklearn/tree/_classes.py\", line 1247, in fit\n",
      "    super().fit(\n",
      "  File \"/Library/Frameworks/Python.framework/Versions/3.11/lib/python3.11/site-packages/sklearn/tree/_classes.py\", line 177, in fit\n",
      "    self._validate_params()\n",
      "  File \"/Library/Frameworks/Python.framework/Versions/3.11/lib/python3.11/site-packages/sklearn/base.py\", line 581, in _validate_params\n",
      "    validate_parameter_constraints(\n",
      "  File \"/Library/Frameworks/Python.framework/Versions/3.11/lib/python3.11/site-packages/sklearn/utils/_param_validation.py\", line 97, in validate_parameter_constraints\n",
      "    raise InvalidParameterError(\n",
      "sklearn.utils._param_validation.InvalidParameterError: The 'criterion' parameter of DecisionTreeRegressor must be a str among {'poisson', 'absolute_error', 'squared_error', 'friedman_mse'}. Got 'mse' instead.\n",
      "\n",
      "  warnings.warn(some_fits_failed_message, FitFailedWarning)\n",
      "/Library/Frameworks/Python.framework/Versions/3.11/lib/python3.11/site-packages/sklearn/model_selection/_search.py:952: UserWarning: One or more of the test scores are non-finite: [       nan        nan 0.65477552 0.62971516]\n",
      "  warnings.warn(\n"
     ]
    },
    {
     "data": {
      "text/html": [
       "<div>\n",
       "<style scoped>\n",
       "    .dataframe tbody tr th:only-of-type {\n",
       "        vertical-align: middle;\n",
       "    }\n",
       "\n",
       "    .dataframe tbody tr th {\n",
       "        vertical-align: top;\n",
       "    }\n",
       "\n",
       "    .dataframe thead th {\n",
       "        text-align: right;\n",
       "    }\n",
       "</style>\n",
       "<table border=\"1\" class=\"dataframe\">\n",
       "  <thead>\n",
       "    <tr style=\"text-align: right;\">\n",
       "      <th></th>\n",
       "      <th>model</th>\n",
       "      <th>best_score</th>\n",
       "      <th>best_params</th>\n",
       "    </tr>\n",
       "  </thead>\n",
       "  <tbody>\n",
       "    <tr>\n",
       "      <th>0</th>\n",
       "      <td>lasso</td>\n",
       "      <td>0.707427</td>\n",
       "      <td>{'alpha': 2, 'selection': 'random'}</td>\n",
       "    </tr>\n",
       "    <tr>\n",
       "      <th>1</th>\n",
       "      <td>decision_tree</td>\n",
       "      <td>0.654776</td>\n",
       "      <td>{'criterion': 'friedman_mse', 'splitter': 'best'}</td>\n",
       "    </tr>\n",
       "    <tr>\n",
       "      <th>2</th>\n",
       "      <td>LinearRegression</td>\n",
       "      <td>0.779161</td>\n",
       "      <td>None</td>\n",
       "    </tr>\n",
       "  </tbody>\n",
       "</table>\n",
       "</div>"
      ],
      "text/plain": [
       "              model  best_score  \\\n",
       "0             lasso    0.707427   \n",
       "1     decision_tree    0.654776   \n",
       "2  LinearRegression    0.779161   \n",
       "\n",
       "                                         best_params  \n",
       "0                {'alpha': 2, 'selection': 'random'}  \n",
       "1  {'criterion': 'friedman_mse', 'splitter': 'best'}  \n",
       "2                                               None  "
      ]
     },
     "execution_count": 53,
     "metadata": {},
     "output_type": "execute_result"
    }
   ],
   "source": [
    "from sklearn.model_selection import GridSearchCV\n",
    "\n",
    "from sklearn.linear_model import Lasso\n",
    "from sklearn.tree import DecisionTreeRegressor\n",
    "\n",
    "def find_best_model_using_gridsearchcv(X,y):\n",
    "    algos = {\n",
    "        'lasso': {\n",
    "            'model': Lasso(),\n",
    "            'params': {\n",
    "                'alpha': [1,2],\n",
    "                'selection': ['random', 'cyclic']\n",
    "            }\n",
    "        },\n",
    "        'decision_tree': {\n",
    "            'model': DecisionTreeRegressor(),\n",
    "            'params': {\n",
    "                'criterion' : ['mse','friedman_mse'],\n",
    "                'splitter': ['best','random']\n",
    "            }\n",
    "        }\n",
    "    }\n",
    "    scores = []\n",
    "    cv = ShuffleSplit(n_splits=5, test_size=0.3, random_state=0)\n",
    "    for algo_name, config in algos.items():\n",
    "        gs =  GridSearchCV(config['model'], config['params'], cv=cv, return_train_score=False)\n",
    "        gs.fit(X,y)\n",
    "        scores.append({\n",
    "            'model': algo_name,\n",
    "            'best_score': gs.best_score_,\n",
    "            'best_params': gs.best_params_\n",
    "        })\n",
    "\n",
    "    scores.append({\n",
    "            'model': 'LinearRegression',\n",
    "            'best_score': lr_clf.score(X_test, y_test),\n",
    "            'best_params': None\n",
    "        })\n",
    "    return pd.DataFrame(scores,columns=['model','best_score','best_params'])\n",
    "\n",
    "find_best_model_using_gridsearchcv(X,y)\n"
   ]
  },
  {
   "attachments": {},
   "cell_type": "markdown",
   "metadata": {},
   "source": [
    "In conclusion, the linear regression model gives the best score. We'll use this model for later developments."
   ]
  },
  {
   "attachments": {},
   "cell_type": "markdown",
   "metadata": {},
   "source": [
    "Now that the model is determined, we can create the function to predict the price."
   ]
  },
  {
   "cell_type": "code",
   "execution_count": 67,
   "metadata": {},
   "outputs": [],
   "source": [
    "def predict_price(neighborhood, area, nb_bed, nb_bath, nb_kitch):\n",
    "    loc_index = np.where(X.columns == neighborhood)[0][0]\n",
    "\n",
    "    x = np.zeros(len(X.columns))\n",
    "    x[0] = area\n",
    "    x[1] = nb_bed\n",
    "    x[2] = nb_kitch\n",
    "    x[3] = nb_bath\n",
    "    if loc_index >= 0:\n",
    "        x[loc_index] = 1\n",
    "\n",
    "    return lr_clf.predict([x])[0]"
   ]
  },
  {
   "attachments": {},
   "cell_type": "markdown",
   "metadata": {},
   "source": [
    "Let's do some test. We'll use Sommerset (as one of the highest valued area) and Timber (as one of the lowest valued area) and compare the results."
   ]
  },
  {
   "cell_type": "code",
   "execution_count": 68,
   "metadata": {},
   "outputs": [
    {
     "name": "stderr",
     "output_type": "stream",
     "text": [
      "/Library/Frameworks/Python.framework/Versions/3.11/lib/python3.11/site-packages/sklearn/base.py:420: UserWarning: X does not have valid feature names, but LinearRegression was fitted with feature names\n",
      "  warnings.warn(\n"
     ]
    },
    {
     "data": {
      "text/plain": [
       "191679.4072032345"
      ]
     },
     "execution_count": 68,
     "metadata": {},
     "output_type": "execute_result"
    }
   ],
   "source": [
    "predict_price('Somerst', 1000, 2, 2, 1)"
   ]
  },
  {
   "cell_type": "code",
   "execution_count": 69,
   "metadata": {},
   "outputs": [
    {
     "name": "stderr",
     "output_type": "stream",
     "text": [
      "/Library/Frameworks/Python.framework/Versions/3.11/lib/python3.11/site-packages/sklearn/base.py:420: UserWarning: X does not have valid feature names, but LinearRegression was fitted with feature names\n",
      "  warnings.warn(\n"
     ]
    },
    {
     "data": {
      "text/plain": [
       "190758.1393433773"
      ]
     },
     "execution_count": 69,
     "metadata": {},
     "output_type": "execute_result"
    }
   ],
   "source": [
    "predict_price('Somerst', 750, 2, 2, 1)"
   ]
  },
  {
   "cell_type": "code",
   "execution_count": 70,
   "metadata": {},
   "outputs": [
    {
     "name": "stderr",
     "output_type": "stream",
     "text": [
      "/Library/Frameworks/Python.framework/Versions/3.11/lib/python3.11/site-packages/sklearn/base.py:420: UserWarning: X does not have valid feature names, but LinearRegression was fitted with feature names\n",
      "  warnings.warn(\n"
     ]
    },
    {
     "data": {
      "text/plain": [
       "158044.98478001222"
      ]
     },
     "execution_count": 70,
     "metadata": {},
     "output_type": "execute_result"
    }
   ],
   "source": [
    "predict_price('Somerst', 400, 1, 1, 1)"
   ]
  },
  {
   "cell_type": "code",
   "execution_count": 71,
   "metadata": {},
   "outputs": [
    {
     "name": "stderr",
     "output_type": "stream",
     "text": [
      "/Library/Frameworks/Python.framework/Versions/3.11/lib/python3.11/site-packages/sklearn/base.py:420: UserWarning: X does not have valid feature names, but LinearRegression was fitted with feature names\n",
      "  warnings.warn(\n"
     ]
    },
    {
     "data": {
      "text/plain": [
       "184115.09105738893"
      ]
     },
     "execution_count": 71,
     "metadata": {},
     "output_type": "execute_result"
    }
   ],
   "source": [
    "predict_price('Timber', 1000, 2, 2, 1)"
   ]
  },
  {
   "cell_type": "code",
   "execution_count": 72,
   "metadata": {},
   "outputs": [
    {
     "name": "stderr",
     "output_type": "stream",
     "text": [
      "/Library/Frameworks/Python.framework/Versions/3.11/lib/python3.11/site-packages/sklearn/base.py:420: UserWarning: X does not have valid feature names, but LinearRegression was fitted with feature names\n",
      "  warnings.warn(\n"
     ]
    },
    {
     "data": {
      "text/plain": [
       "183193.82319753175"
      ]
     },
     "execution_count": 72,
     "metadata": {},
     "output_type": "execute_result"
    }
   ],
   "source": [
    "predict_price('Timber', 750, 2, 2, 1)"
   ]
  },
  {
   "cell_type": "code",
   "execution_count": 73,
   "metadata": {},
   "outputs": [
    {
     "name": "stderr",
     "output_type": "stream",
     "text": [
      "/Library/Frameworks/Python.framework/Versions/3.11/lib/python3.11/site-packages/sklearn/base.py:420: UserWarning: X does not have valid feature names, but LinearRegression was fitted with feature names\n",
      "  warnings.warn(\n"
     ]
    },
    {
     "data": {
      "text/plain": [
       "150480.6686341667"
      ]
     },
     "execution_count": 73,
     "metadata": {},
     "output_type": "execute_result"
    }
   ],
   "source": [
    "predict_price('Timber', 400, 1, 1, 1)"
   ]
  },
  {
   "attachments": {},
   "cell_type": "markdown",
   "metadata": {},
   "source": [
    "The results are coherent so the prediction function works as expected!"
   ]
  },
  {
   "attachments": {},
   "cell_type": "markdown",
   "metadata": {},
   "source": [
    "## 5. Creating the Web App"
   ]
  },
  {
   "attachments": {},
   "cell_type": "markdown",
   "metadata": {},
   "source": [
    "We'll implement this estimator as a web app with the help of Streamlit. The full implementation can be found as \"PredictorApp.py\" and can be launched!"
   ]
  },
  {
   "cell_type": "code",
   "execution_count": 77,
   "metadata": {},
   "outputs": [
    {
     "name": "stderr",
     "output_type": "stream",
     "text": [
      "/Library/Frameworks/Python.framework/Versions/3.11/lib/python3.11/site-packages/sklearn/base.py:420: UserWarning: X does not have valid feature names, but LinearRegression was fitted with feature names\n",
      "  warnings.warn(\n"
     ]
    }
   ],
   "source": [
    "import streamlit as st\n",
    "\n",
    "st.title(\"Real-Estate Price Estimator\")\n",
    "st.header(\"With the help of AI and Machine Learning, find the best estimate for your real-estate in Ames, Iowa.\")\n",
    "\n",
    "col1, col2 = st.columns(2)\n",
    "\n",
    "list_neighborhoods = ('Bloomington Heights',\n",
    "'Bluestem',\n",
    "'Briardale',\n",
    "'Brookside',\n",
    "'Clear Creek',\n",
    "'College Creek',\n",
    "'Crawford',\n",
    "'Edwards',\n",
    "'Gilbert',\n",
    "'Iowa DOT and Rail Road',\n",
    "'Meadow Village',\n",
    "'Mitchell',\n",
    "'North Ames',\n",
    "'Northridge',\n",
    "'Northpark Villa',\n",
    "'Northridge Heights',\n",
    "'Northwest Ames',\n",
    "'Old Town',\n",
    "'South & West of Iowa State University',\n",
    "'Sawyer',\n",
    "'Sawyer West',\n",
    "'Somerset',\n",
    "'Stone Brook',\n",
    "'Timberland',\n",
    "'Veenker')\n",
    "\n",
    "with col1:\n",
    "    area_sqft = st.number_input(\n",
    "        \"Total area (in square feet)\"\n",
    "    )\n",
    "    neigh =  st.selectbox(\n",
    "        \"Neighborhood\",\n",
    "        list_neighborhoods\n",
    "    )\n",
    "\n",
    "match neigh:\n",
    "    case 'Bloomington Heights':\n",
    "        neigh = 'Blmngtn'\n",
    "    case 'Bluestem':\n",
    "        neigh = 'Blueste'\n",
    "    case 'Briardale':\n",
    "        neigh = 'BrDale'\n",
    "    case 'Brookside':\n",
    "        neigh = 'BrkSide'\n",
    "    case 'Clear Creek':\n",
    "        neigh = 'ClearCr'\n",
    "    case 'College Creek':\n",
    "        neigh = 'CollgCr'\n",
    "    case 'Crawford':\n",
    "        neigh = 'Crawfor'\n",
    "    case 'Edwards':\n",
    "        neigh = 'Edwards'\n",
    "    case 'Gilbert':\n",
    "        neigh = 'Gilbert'\n",
    "    case 'Iowa DOT and Rail Road':\n",
    "        neigh = 'IDOTRR'\n",
    "    case 'Meadow Village':\n",
    "        neigh = 'MeadowV'\n",
    "    case 'Mitchell':\n",
    "        neigh = 'Mitchel'\n",
    "    case 'North Ames':\n",
    "        neigh = 'Names'\n",
    "    case 'Northridge':\n",
    "        neigh = 'NoRidge'\n",
    "    case 'Northpark Villa':\n",
    "        neigh = 'NPkVill'\n",
    "    case 'Northridge Heights':\n",
    "        neigh = 'NridgHt'\n",
    "    case 'Northwest Ames':\n",
    "        neigh = 'NWAmes'\n",
    "    case 'Old Town':\n",
    "        neigh = 'OldTown'\n",
    "    case 'South & West of Iowa State University':\n",
    "        neigh = 'SWISU'\n",
    "    case 'Sawyer':\n",
    "        neigh = 'Sawyer'\n",
    "    case 'Sawyer West':\n",
    "        neigh = 'SawyerW'\n",
    "    case 'Somerset':\n",
    "        neigh = 'Somerst'\n",
    "    case 'Stone Brook':\n",
    "        neigh = 'StoneBr'\n",
    "    case 'Timberland':\n",
    "        neigh = 'Timber'\n",
    "    case 'Veenker':\n",
    "        neigh = 'Veenker'\n",
    "\n",
    "with col2:\n",
    "    nb_bedroom = st.slider('Number of bedrooms', 0, 15, 2)\n",
    "    nb_bathroom = st.slider('Number of bedrooms', 0, 30, 2)\n",
    "    nb_kitchen = st.slider('Number of kitchen', 0, 10, 1)\n",
    "\n",
    "price = predict_price(neigh, float(area_sqft), nb_bedroom, nb_kitchen, nb_bathroom)\n",
    "\n",
    "if st.button('Calculate'):\n",
    "    st.write('The price is $', price)"
   ]
  },
  {
   "cell_type": "code",
   "execution_count": null,
   "metadata": {},
   "outputs": [],
   "source": []
  },
  {
   "cell_type": "markdown",
   "metadata": {},
   "source": []
  }
 ],
 "metadata": {
  "kernelspec": {
   "display_name": "Python 3",
   "language": "python",
   "name": "python3"
  },
  "language_info": {
   "codemirror_mode": {
    "name": "ipython",
    "version": 3
   },
   "file_extension": ".py",
   "mimetype": "text/x-python",
   "name": "python",
   "nbconvert_exporter": "python",
   "pygments_lexer": "ipython3",
   "version": "3.11.2"
  },
  "orig_nbformat": 4,
  "vscode": {
   "interpreter": {
    "hash": "aee8b7b246df8f9039afb4144a1f6fd8d2ca17a180786b69acc140d282b71a49"
   }
  }
 },
 "nbformat": 4,
 "nbformat_minor": 2
}
